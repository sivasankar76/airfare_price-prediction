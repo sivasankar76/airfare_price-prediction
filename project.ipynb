{
 "cells": [
  {
   "cell_type": "markdown",
   "metadata": {
    "id": "duacQMllNqSn"
   },
   "source": [
    "#Set up Environment:"
   ]
  },
  {
   "cell_type": "code",
   "execution_count": 1,
   "metadata": {
    "id": "vcrlrO11S1FZ"
   },
   "outputs": [],
   "source": [
    "import numpy as np\n",
    "import pandas as pd\n",
    "import matplotlib.pyplot as plt\n",
    "from sklearn import metrics\n",
    "import seaborn as sns\n",
    "sns.set()"
   ]
  },
  {
   "cell_type": "markdown",
   "metadata": {
    "id": "bFGnop_jS1Fa"
   },
   "source": [
    "#Load Dataset:"
   ]
  },
  {
   "cell_type": "code",
   "execution_count": 2,
   "metadata": {
    "colab": {
     "base_uri": "https://localhost:8080/",
     "height": 206
    },
    "executionInfo": {
     "elapsed": 7108,
     "status": "ok",
     "timestamp": 1661672213950,
     "user": {
      "displayName": "Skillcate AI",
      "userId": "11062674699417926870"
     },
     "user_tz": -330
    },
    "id": "0Hbzcmp5S1Fb",
    "outputId": "e2796d9a-1ca9-4dde-9e2d-660256014278"
   },
   "outputs": [
    {
     "data": {
      "text/html": [
       "<div>\n",
       "<style scoped>\n",
       "    .dataframe tbody tr th:only-of-type {\n",
       "        vertical-align: middle;\n",
       "    }\n",
       "\n",
       "    .dataframe tbody tr th {\n",
       "        vertical-align: top;\n",
       "    }\n",
       "\n",
       "    .dataframe thead th {\n",
       "        text-align: right;\n",
       "    }\n",
       "</style>\n",
       "<table border=\"1\" class=\"dataframe\">\n",
       "  <thead>\n",
       "    <tr style=\"text-align: right;\">\n",
       "      <th></th>\n",
       "      <th>Airline</th>\n",
       "      <th>Source</th>\n",
       "      <th>Destination</th>\n",
       "      <th>Arrival_Time</th>\n",
       "      <th>Duration</th>\n",
       "      <th>Total_Stops</th>\n",
       "      <th>Additional_Info</th>\n",
       "      <th>Price</th>\n",
       "      <th>Date_of_Journey</th>\n",
       "      <th>Route</th>\n",
       "      <th>Dep_Time</th>\n",
       "    </tr>\n",
       "  </thead>\n",
       "  <tbody>\n",
       "    <tr>\n",
       "      <th>0</th>\n",
       "      <td>IndiGo</td>\n",
       "      <td>Banglore</td>\n",
       "      <td>New Delhi</td>\n",
       "      <td>01:10 22 Mar</td>\n",
       "      <td>2h 50m</td>\n",
       "      <td>non-stop</td>\n",
       "      <td>No info</td>\n",
       "      <td>3897.0</td>\n",
       "      <td>24/03/2019</td>\n",
       "      <td>BLR → DEL</td>\n",
       "      <td>22:20</td>\n",
       "    </tr>\n",
       "    <tr>\n",
       "      <th>1</th>\n",
       "      <td>Air India</td>\n",
       "      <td>Kolkata</td>\n",
       "      <td>Banglore</td>\n",
       "      <td>13:15</td>\n",
       "      <td>7h 25m</td>\n",
       "      <td>2 stops</td>\n",
       "      <td>No info</td>\n",
       "      <td>7662.0</td>\n",
       "      <td>1/05/2019</td>\n",
       "      <td>CCU → IXR → BBI → BLR</td>\n",
       "      <td>05:50</td>\n",
       "    </tr>\n",
       "    <tr>\n",
       "      <th>2</th>\n",
       "      <td>Jet Airways</td>\n",
       "      <td>Delhi</td>\n",
       "      <td>Cochin</td>\n",
       "      <td>04:25 10 Jun</td>\n",
       "      <td>19h</td>\n",
       "      <td>2 stops</td>\n",
       "      <td>No info</td>\n",
       "      <td>13882.0</td>\n",
       "      <td>9/06/2019</td>\n",
       "      <td>DEL → LKO → BOM → COK</td>\n",
       "      <td>09:25</td>\n",
       "    </tr>\n",
       "    <tr>\n",
       "      <th>3</th>\n",
       "      <td>IndiGo</td>\n",
       "      <td>Kolkata</td>\n",
       "      <td>Banglore</td>\n",
       "      <td>23:30</td>\n",
       "      <td>5h 25m</td>\n",
       "      <td>1 stop</td>\n",
       "      <td>No info</td>\n",
       "      <td>6218.0</td>\n",
       "      <td>12/05/2019</td>\n",
       "      <td>CCU → NAG → BLR</td>\n",
       "      <td>18:05</td>\n",
       "    </tr>\n",
       "    <tr>\n",
       "      <th>4</th>\n",
       "      <td>IndiGo</td>\n",
       "      <td>Banglore</td>\n",
       "      <td>New Delhi</td>\n",
       "      <td>21:35</td>\n",
       "      <td>4h 45m</td>\n",
       "      <td>1 stop</td>\n",
       "      <td>No info</td>\n",
       "      <td>13302.0</td>\n",
       "      <td>01/03/2019</td>\n",
       "      <td>BLR → NAG → DEL</td>\n",
       "      <td>16:50</td>\n",
       "    </tr>\n",
       "  </tbody>\n",
       "</table>\n",
       "</div>"
      ],
      "text/plain": [
       "       Airline    Source Destination  Arrival_Time Duration Total_Stops  \\\n",
       "0       IndiGo  Banglore   New Delhi  01:10 22 Mar   2h 50m    non-stop   \n",
       "1    Air India   Kolkata    Banglore         13:15   7h 25m     2 stops   \n",
       "2  Jet Airways     Delhi      Cochin  04:25 10 Jun      19h     2 stops   \n",
       "3       IndiGo   Kolkata    Banglore         23:30   5h 25m      1 stop   \n",
       "4       IndiGo  Banglore   New Delhi         21:35   4h 45m      1 stop   \n",
       "\n",
       "  Additional_Info    Price Date_of_Journey                  Route Dep_Time  \n",
       "0         No info   3897.0      24/03/2019              BLR → DEL    22:20  \n",
       "1         No info   7662.0       1/05/2019  CCU → IXR → BBI → BLR    05:50  \n",
       "2         No info  13882.0       9/06/2019  DEL → LKO → BOM → COK    09:25  \n",
       "3         No info   6218.0      12/05/2019        CCU → NAG → BLR    18:05  \n",
       "4         No info  13302.0      01/03/2019        BLR → NAG → DEL    16:50  "
      ]
     },
     "execution_count": 2,
     "metadata": {},
     "output_type": "execute_result"
    }
   ],
   "source": [
    "\n",
    "dataset =pd.read_csv(r'C:\\Users\\sankh\\Desktop\\project\\Flight Ticket Price.csv')\n",
    "\n",
    "pd.set_option('display.max_columns', None)\n",
    "\n",
    "dataset.head()"
   ]
  },
  {
   "cell_type": "code",
   "execution_count": 3,
   "metadata": {
    "colab": {
     "base_uri": "https://localhost:8080/"
    },
    "executionInfo": {
     "elapsed": 13,
     "status": "ok",
     "timestamp": 1661672213951,
     "user": {
      "displayName": "Skillcate AI",
      "userId": "11062674699417926870"
     },
     "user_tz": -330
    },
    "id": "slLEP_6QS1Fc",
    "outputId": "2fcd0389-6f57-4149-ed27-6bb59d2f314c"
   },
   "outputs": [
    {
     "name": "stdout",
     "output_type": "stream",
     "text": [
      "<class 'pandas.core.frame.DataFrame'>\n",
      "RangeIndex: 10683 entries, 0 to 10682\n",
      "Data columns (total 11 columns):\n",
      " #   Column           Non-Null Count  Dtype  \n",
      "---  ------           --------------  -----  \n",
      " 0   Airline          10683 non-null  object \n",
      " 1   Source           10683 non-null  object \n",
      " 2   Destination      10683 non-null  object \n",
      " 3   Arrival_Time     10683 non-null  object \n",
      " 4   Duration         10683 non-null  object \n",
      " 5   Total_Stops      10682 non-null  object \n",
      " 6   Additional_Info  10683 non-null  object \n",
      " 7   Price            10683 non-null  float64\n",
      " 8   Date_of_Journey  10683 non-null  object \n",
      " 9   Route            10682 non-null  object \n",
      " 10  Dep_Time         10683 non-null  object \n",
      "dtypes: float64(1), object(10)\n",
      "memory usage: 918.2+ KB\n"
     ]
    }
   ],
   "source": [
    "dataset.info()       # Print Data Types"
   ]
  },
  {
   "cell_type": "markdown",
   "metadata": {
    "id": "Z2ABOEWcvUs4"
   },
   "source": [
    "#Check for missing values:"
   ]
  },
  {
   "cell_type": "code",
   "execution_count": 4,
   "metadata": {
    "colab": {
     "base_uri": "https://localhost:8080/"
    },
    "executionInfo": {
     "elapsed": 11,
     "status": "ok",
     "timestamp": 1661672213951,
     "user": {
      "displayName": "Skillcate AI",
      "userId": "11062674699417926870"
     },
     "user_tz": -330
    },
    "id": "nounGdRWS1Fd",
    "outputId": "dcf10cf0-d954-4d4b-8caa-3d47296c602f"
   },
   "outputs": [
    {
     "data": {
      "text/plain": [
       "Airline            0\n",
       "Source             0\n",
       "Destination        0\n",
       "Arrival_Time       0\n",
       "Duration           0\n",
       "Total_Stops        1\n",
       "Additional_Info    0\n",
       "Price              0\n",
       "Date_of_Journey    0\n",
       "Route              1\n",
       "Dep_Time           0\n",
       "dtype: int64"
      ]
     },
     "execution_count": 4,
     "metadata": {},
     "output_type": "execute_result"
    }
   ],
   "source": [
    "dataset.isnull().sum()"
   ]
  },
  {
   "cell_type": "code",
   "execution_count": 5,
   "metadata": {
    "id": "rkesT0mPS1Fd"
   },
   "outputs": [],
   "source": [
    "dataset.dropna(inplace = True)"
   ]
  },
  {
   "cell_type": "code",
   "execution_count": 6,
   "metadata": {
    "colab": {
     "base_uri": "https://localhost:8080/"
    },
    "executionInfo": {
     "elapsed": 10,
     "status": "ok",
     "timestamp": 1661672213952,
     "user": {
      "displayName": "Skillcate AI",
      "userId": "11062674699417926870"
     },
     "user_tz": -330
    },
    "id": "cLY6bzKoQUij",
    "outputId": "33fbd1b8-95bd-49d2-a2b5-197f4a64b34e"
   },
   "outputs": [
    {
     "data": {
      "text/plain": [
       "Airline            0\n",
       "Source             0\n",
       "Destination        0\n",
       "Arrival_Time       0\n",
       "Duration           0\n",
       "Total_Stops        0\n",
       "Additional_Info    0\n",
       "Price              0\n",
       "Date_of_Journey    0\n",
       "Route              0\n",
       "Dep_Time           0\n",
       "dtype: int64"
      ]
     },
     "execution_count": 6,
     "metadata": {},
     "output_type": "execute_result"
    }
   ],
   "source": [
    "dataset.isnull().sum()"
   ]
  },
  {
   "cell_type": "markdown",
   "metadata": {
    "id": "_3gT5bY7S1Fe"
   },
   "source": [
    " #Feature Engineering:"
   ]
  },
  {
   "cell_type": "code",
   "execution_count": 7,
   "metadata": {
    "colab": {
     "base_uri": "https://localhost:8080/",
     "height": 206
    },
    "executionInfo": {
     "elapsed": 10,
     "status": "ok",
     "timestamp": 1661672213953,
     "user": {
      "displayName": "Skillcate AI",
      "userId": "11062674699417926870"
     },
     "user_tz": -330
    },
    "id": "VJFAzCADQ7lT",
    "outputId": "4981bfa6-9770-4ca6-dd09-802d2ebfcbf8",
    "scrolled": true
   },
   "outputs": [
    {
     "data": {
      "text/html": [
       "<div>\n",
       "<style scoped>\n",
       "    .dataframe tbody tr th:only-of-type {\n",
       "        vertical-align: middle;\n",
       "    }\n",
       "\n",
       "    .dataframe tbody tr th {\n",
       "        vertical-align: top;\n",
       "    }\n",
       "\n",
       "    .dataframe thead th {\n",
       "        text-align: right;\n",
       "    }\n",
       "</style>\n",
       "<table border=\"1\" class=\"dataframe\">\n",
       "  <thead>\n",
       "    <tr style=\"text-align: right;\">\n",
       "      <th></th>\n",
       "      <th>Airline</th>\n",
       "      <th>Source</th>\n",
       "      <th>Destination</th>\n",
       "      <th>Arrival_Time</th>\n",
       "      <th>Duration</th>\n",
       "      <th>Total_Stops</th>\n",
       "      <th>Additional_Info</th>\n",
       "      <th>Price</th>\n",
       "      <th>Date_of_Journey</th>\n",
       "      <th>Route</th>\n",
       "      <th>Dep_Time</th>\n",
       "    </tr>\n",
       "  </thead>\n",
       "  <tbody>\n",
       "    <tr>\n",
       "      <th>0</th>\n",
       "      <td>IndiGo</td>\n",
       "      <td>Banglore</td>\n",
       "      <td>New Delhi</td>\n",
       "      <td>01:10 22 Mar</td>\n",
       "      <td>2h 50m</td>\n",
       "      <td>non-stop</td>\n",
       "      <td>No info</td>\n",
       "      <td>3897.0</td>\n",
       "      <td>24/03/2019</td>\n",
       "      <td>BLR → DEL</td>\n",
       "      <td>22:20</td>\n",
       "    </tr>\n",
       "    <tr>\n",
       "      <th>1</th>\n",
       "      <td>Air India</td>\n",
       "      <td>Kolkata</td>\n",
       "      <td>Banglore</td>\n",
       "      <td>13:15</td>\n",
       "      <td>7h 25m</td>\n",
       "      <td>2 stops</td>\n",
       "      <td>No info</td>\n",
       "      <td>7662.0</td>\n",
       "      <td>1/05/2019</td>\n",
       "      <td>CCU → IXR → BBI → BLR</td>\n",
       "      <td>05:50</td>\n",
       "    </tr>\n",
       "    <tr>\n",
       "      <th>2</th>\n",
       "      <td>Jet Airways</td>\n",
       "      <td>Delhi</td>\n",
       "      <td>Cochin</td>\n",
       "      <td>04:25 10 Jun</td>\n",
       "      <td>19h</td>\n",
       "      <td>2 stops</td>\n",
       "      <td>No info</td>\n",
       "      <td>13882.0</td>\n",
       "      <td>9/06/2019</td>\n",
       "      <td>DEL → LKO → BOM → COK</td>\n",
       "      <td>09:25</td>\n",
       "    </tr>\n",
       "    <tr>\n",
       "      <th>3</th>\n",
       "      <td>IndiGo</td>\n",
       "      <td>Kolkata</td>\n",
       "      <td>Banglore</td>\n",
       "      <td>23:30</td>\n",
       "      <td>5h 25m</td>\n",
       "      <td>1 stop</td>\n",
       "      <td>No info</td>\n",
       "      <td>6218.0</td>\n",
       "      <td>12/05/2019</td>\n",
       "      <td>CCU → NAG → BLR</td>\n",
       "      <td>18:05</td>\n",
       "    </tr>\n",
       "    <tr>\n",
       "      <th>4</th>\n",
       "      <td>IndiGo</td>\n",
       "      <td>Banglore</td>\n",
       "      <td>New Delhi</td>\n",
       "      <td>21:35</td>\n",
       "      <td>4h 45m</td>\n",
       "      <td>1 stop</td>\n",
       "      <td>No info</td>\n",
       "      <td>13302.0</td>\n",
       "      <td>01/03/2019</td>\n",
       "      <td>BLR → NAG → DEL</td>\n",
       "      <td>16:50</td>\n",
       "    </tr>\n",
       "  </tbody>\n",
       "</table>\n",
       "</div>"
      ],
      "text/plain": [
       "       Airline    Source Destination  Arrival_Time Duration Total_Stops  \\\n",
       "0       IndiGo  Banglore   New Delhi  01:10 22 Mar   2h 50m    non-stop   \n",
       "1    Air India   Kolkata    Banglore         13:15   7h 25m     2 stops   \n",
       "2  Jet Airways     Delhi      Cochin  04:25 10 Jun      19h     2 stops   \n",
       "3       IndiGo   Kolkata    Banglore         23:30   5h 25m      1 stop   \n",
       "4       IndiGo  Banglore   New Delhi         21:35   4h 45m      1 stop   \n",
       "\n",
       "  Additional_Info    Price Date_of_Journey                  Route Dep_Time  \n",
       "0         No info   3897.0      24/03/2019              BLR → DEL    22:20  \n",
       "1         No info   7662.0       1/05/2019  CCU → IXR → BBI → BLR    05:50  \n",
       "2         No info  13882.0       9/06/2019  DEL → LKO → BOM → COK    09:25  \n",
       "3         No info   6218.0      12/05/2019        CCU → NAG → BLR    18:05  \n",
       "4         No info  13302.0      01/03/2019        BLR → NAG → DEL    16:50  "
      ]
     },
     "execution_count": 7,
     "metadata": {},
     "output_type": "execute_result"
    }
   ],
   "source": [
    "dataset.head()"
   ]
  },
  {
   "cell_type": "markdown",
   "metadata": {
    "id": "l9Mr_4zVYCd5"
   },
   "source": [
    " #Handling Object Data:\n",
    "**`Date_of_Journey`, `Dep_Time`, `Arrival_Time`, `Duration` are object datatype.** To derive numeric features on these, we use pandas `to_datetime` method to convert object data type to datetime datatype.\n",
    "\n",
    "<span style=\"color: red;\">Attribute `.dt.day`  will extract day from the date</span>\\\n",
    "<span style=\"color: red;\">Attribute `.dt.month` will extract  month from that date</span>"
   ]
  },
  {
   "cell_type": "code",
   "execution_count": 8,
   "metadata": {
    "colab": {
     "base_uri": "https://localhost:8080/",
     "height": 250
    },
    "executionInfo": {
     "elapsed": 9,
     "status": "ok",
     "timestamp": 1661672213953,
     "user": {
      "displayName": "Skillcate AI",
      "userId": "11062674699417926870"
     },
     "user_tz": -330
    },
    "id": "biASfcHxS1Fe",
    "outputId": "5c5fb6c1-0f9d-49c9-ae0c-5156aa4ad7b7"
   },
   "outputs": [
    {
     "data": {
      "text/html": [
       "<div>\n",
       "<style scoped>\n",
       "    .dataframe tbody tr th:only-of-type {\n",
       "        vertical-align: middle;\n",
       "    }\n",
       "\n",
       "    .dataframe tbody tr th {\n",
       "        vertical-align: top;\n",
       "    }\n",
       "\n",
       "    .dataframe thead th {\n",
       "        text-align: right;\n",
       "    }\n",
       "</style>\n",
       "<table border=\"1\" class=\"dataframe\">\n",
       "  <thead>\n",
       "    <tr style=\"text-align: right;\">\n",
       "      <th></th>\n",
       "      <th>Airline</th>\n",
       "      <th>Source</th>\n",
       "      <th>Destination</th>\n",
       "      <th>Arrival_Time</th>\n",
       "      <th>Duration</th>\n",
       "      <th>Total_Stops</th>\n",
       "      <th>Additional_Info</th>\n",
       "      <th>Price</th>\n",
       "      <th>Date_of_Journey</th>\n",
       "      <th>Route</th>\n",
       "      <th>Dep_Time</th>\n",
       "      <th>journey_day</th>\n",
       "      <th>journey_month</th>\n",
       "    </tr>\n",
       "  </thead>\n",
       "  <tbody>\n",
       "    <tr>\n",
       "      <th>0</th>\n",
       "      <td>IndiGo</td>\n",
       "      <td>Banglore</td>\n",
       "      <td>New Delhi</td>\n",
       "      <td>01:10 22 Mar</td>\n",
       "      <td>2h 50m</td>\n",
       "      <td>non-stop</td>\n",
       "      <td>No info</td>\n",
       "      <td>3897.0</td>\n",
       "      <td>24/03/2019</td>\n",
       "      <td>BLR → DEL</td>\n",
       "      <td>22:20</td>\n",
       "      <td>24</td>\n",
       "      <td>3</td>\n",
       "    </tr>\n",
       "    <tr>\n",
       "      <th>1</th>\n",
       "      <td>Air India</td>\n",
       "      <td>Kolkata</td>\n",
       "      <td>Banglore</td>\n",
       "      <td>13:15</td>\n",
       "      <td>7h 25m</td>\n",
       "      <td>2 stops</td>\n",
       "      <td>No info</td>\n",
       "      <td>7662.0</td>\n",
       "      <td>1/05/2019</td>\n",
       "      <td>CCU → IXR → BBI → BLR</td>\n",
       "      <td>05:50</td>\n",
       "      <td>1</td>\n",
       "      <td>5</td>\n",
       "    </tr>\n",
       "    <tr>\n",
       "      <th>2</th>\n",
       "      <td>Jet Airways</td>\n",
       "      <td>Delhi</td>\n",
       "      <td>Cochin</td>\n",
       "      <td>04:25 10 Jun</td>\n",
       "      <td>19h</td>\n",
       "      <td>2 stops</td>\n",
       "      <td>No info</td>\n",
       "      <td>13882.0</td>\n",
       "      <td>9/06/2019</td>\n",
       "      <td>DEL → LKO → BOM → COK</td>\n",
       "      <td>09:25</td>\n",
       "      <td>9</td>\n",
       "      <td>6</td>\n",
       "    </tr>\n",
       "    <tr>\n",
       "      <th>3</th>\n",
       "      <td>IndiGo</td>\n",
       "      <td>Kolkata</td>\n",
       "      <td>Banglore</td>\n",
       "      <td>23:30</td>\n",
       "      <td>5h 25m</td>\n",
       "      <td>1 stop</td>\n",
       "      <td>No info</td>\n",
       "      <td>6218.0</td>\n",
       "      <td>12/05/2019</td>\n",
       "      <td>CCU → NAG → BLR</td>\n",
       "      <td>18:05</td>\n",
       "      <td>12</td>\n",
       "      <td>5</td>\n",
       "    </tr>\n",
       "    <tr>\n",
       "      <th>4</th>\n",
       "      <td>IndiGo</td>\n",
       "      <td>Banglore</td>\n",
       "      <td>New Delhi</td>\n",
       "      <td>21:35</td>\n",
       "      <td>4h 45m</td>\n",
       "      <td>1 stop</td>\n",
       "      <td>No info</td>\n",
       "      <td>13302.0</td>\n",
       "      <td>01/03/2019</td>\n",
       "      <td>BLR → NAG → DEL</td>\n",
       "      <td>16:50</td>\n",
       "      <td>1</td>\n",
       "      <td>3</td>\n",
       "    </tr>\n",
       "  </tbody>\n",
       "</table>\n",
       "</div>"
      ],
      "text/plain": [
       "       Airline    Source Destination  Arrival_Time Duration Total_Stops  \\\n",
       "0       IndiGo  Banglore   New Delhi  01:10 22 Mar   2h 50m    non-stop   \n",
       "1    Air India   Kolkata    Banglore         13:15   7h 25m     2 stops   \n",
       "2  Jet Airways     Delhi      Cochin  04:25 10 Jun      19h     2 stops   \n",
       "3       IndiGo   Kolkata    Banglore         23:30   5h 25m      1 stop   \n",
       "4       IndiGo  Banglore   New Delhi         21:35   4h 45m      1 stop   \n",
       "\n",
       "  Additional_Info    Price Date_of_Journey                  Route Dep_Time  \\\n",
       "0         No info   3897.0      24/03/2019              BLR → DEL    22:20   \n",
       "1         No info   7662.0       1/05/2019  CCU → IXR → BBI → BLR    05:50   \n",
       "2         No info  13882.0       9/06/2019  DEL → LKO → BOM → COK    09:25   \n",
       "3         No info   6218.0      12/05/2019        CCU → NAG → BLR    18:05   \n",
       "4         No info  13302.0      01/03/2019        BLR → NAG → DEL    16:50   \n",
       "\n",
       "   journey_day  journey_month  \n",
       "0           24              3  \n",
       "1            1              5  \n",
       "2            9              6  \n",
       "3           12              5  \n",
       "4            1              3  "
      ]
     },
     "execution_count": 8,
     "metadata": {},
     "output_type": "execute_result"
    }
   ],
   "source": [
    "# Date_of_Journey is the day when plane departs. \n",
    "dataset[\"journey_day\"] = pd.to_datetime(dataset.Date_of_Journey, format=\"%d/%m/%Y\").dt.day\n",
    "dataset[\"journey_month\"] = pd.to_datetime(dataset[\"Date_of_Journey\"], format = \"%d/%m/%Y\").dt.month\n",
    "dataset.head()"
   ]
  },
  {
   "cell_type": "code",
   "execution_count": 9,
   "metadata": {
    "id": "rT6s-eEBS1Ff"
   },
   "outputs": [],
   "source": [
    "# Since we have converted Date_of_Journey column into integers, Now we can drop as it is of no use.\n",
    "dataset.drop([\"Date_of_Journey\"], axis = 1, inplace = True)"
   ]
  },
  {
   "cell_type": "code",
   "execution_count": 10,
   "metadata": {
    "id": "Z4dI5r9pS1Ff"
   },
   "outputs": [
    {
     "name": "stderr",
     "output_type": "stream",
     "text": [
      "C:\\Users\\sankh\\AppData\\Local\\Temp\\ipykernel_20860\\2806015522.py:4: UserWarning: Could not infer format, so each element will be parsed individually, falling back to `dateutil`. To ensure parsing is consistent and as-expected, please specify a format.\n",
      "  dataset[\"dep_hour\"] = pd.to_datetime(dataset[\"Dep_Time\"]).dt.hour\n",
      "C:\\Users\\sankh\\AppData\\Local\\Temp\\ipykernel_20860\\2806015522.py:6: UserWarning: Could not infer format, so each element will be parsed individually, falling back to `dateutil`. To ensure parsing is consistent and as-expected, please specify a format.\n",
      "  dataset[\"dep_min\"] = pd.to_datetime(dataset[\"Dep_Time\"]).dt.minute\n"
     ]
    }
   ],
   "source": [
    "# Departure time is when a plane leaves the gate. \n",
    "# Similar to Date_of_Journey we can extract values from Dep_Time\n",
    "# Extracting Hours\n",
    "dataset[\"dep_hour\"] = pd.to_datetime(dataset[\"Dep_Time\"]).dt.hour\n",
    "# Extracting Minutes\n",
    "dataset[\"dep_min\"] = pd.to_datetime(dataset[\"Dep_Time\"]).dt.minute\n",
    "# Now we drop Dep_Time as it is of no use\n",
    "dataset.drop([\"Dep_Time\"], axis = 1, inplace = True)"
   ]
  },
  {
   "cell_type": "code",
   "execution_count": 11,
   "metadata": {
    "id": "5D9PH9U7S1Fg"
   },
   "outputs": [
    {
     "name": "stderr",
     "output_type": "stream",
     "text": [
      "C:\\Users\\sankh\\AppData\\Local\\Temp\\ipykernel_20860\\877592423.py:5: UserWarning: Could not infer format, so each element will be parsed individually, falling back to `dateutil`. To ensure parsing is consistent and as-expected, please specify a format.\n",
      "  dataset[\"arrival_hour\"] = pd.to_datetime(dataset[\"Arrival_Time\"]).dt.hour\n",
      "C:\\Users\\sankh\\AppData\\Local\\Temp\\ipykernel_20860\\877592423.py:7: UserWarning: Could not infer format, so each element will be parsed individually, falling back to `dateutil`. To ensure parsing is consistent and as-expected, please specify a format.\n",
      "  dataset[\"arrival_min\"] = pd.to_datetime(dataset[\"Arrival_Time\"]).dt.minute\n"
     ]
    }
   ],
   "source": [
    "# Arrival time is when the plane pulls up to the gate.\n",
    "# Similar to Date_of_Journey we can extract values from Arrival_Time\n",
    "\n",
    "# Extracting Hours\n",
    "dataset[\"arrival_hour\"] = pd.to_datetime(dataset[\"Arrival_Time\"]).dt.hour\n",
    "# Extracting Minutes\n",
    "dataset[\"arrival_min\"] = pd.to_datetime(dataset[\"Arrival_Time\"]).dt.minute\n",
    "# Now we can drop Arrival_Time as it is of no use\n",
    "dataset.drop([\"Arrival_Time\"], axis = 1, inplace = True)"
   ]
  },
  {
   "cell_type": "code",
   "execution_count": 12,
   "metadata": {
    "colab": {
     "base_uri": "https://localhost:8080/",
     "height": 250
    },
    "executionInfo": {
     "elapsed": 35,
     "status": "ok",
     "timestamp": 1661672214908,
     "user": {
      "displayName": "Skillcate AI",
      "userId": "11062674699417926870"
     },
     "user_tz": -330
    },
    "id": "cEhqWAvuS1Fg",
    "outputId": "02fef27b-efbe-40d8-8442-18d471d69caf"
   },
   "outputs": [
    {
     "data": {
      "text/html": [
       "<div>\n",
       "<style scoped>\n",
       "    .dataframe tbody tr th:only-of-type {\n",
       "        vertical-align: middle;\n",
       "    }\n",
       "\n",
       "    .dataframe tbody tr th {\n",
       "        vertical-align: top;\n",
       "    }\n",
       "\n",
       "    .dataframe thead th {\n",
       "        text-align: right;\n",
       "    }\n",
       "</style>\n",
       "<table border=\"1\" class=\"dataframe\">\n",
       "  <thead>\n",
       "    <tr style=\"text-align: right;\">\n",
       "      <th></th>\n",
       "      <th>Airline</th>\n",
       "      <th>Source</th>\n",
       "      <th>Destination</th>\n",
       "      <th>Duration</th>\n",
       "      <th>Total_Stops</th>\n",
       "      <th>Additional_Info</th>\n",
       "      <th>Price</th>\n",
       "      <th>Route</th>\n",
       "      <th>journey_day</th>\n",
       "      <th>journey_month</th>\n",
       "      <th>dep_hour</th>\n",
       "      <th>dep_min</th>\n",
       "      <th>arrival_hour</th>\n",
       "      <th>arrival_min</th>\n",
       "    </tr>\n",
       "  </thead>\n",
       "  <tbody>\n",
       "    <tr>\n",
       "      <th>0</th>\n",
       "      <td>IndiGo</td>\n",
       "      <td>Banglore</td>\n",
       "      <td>New Delhi</td>\n",
       "      <td>2h 50m</td>\n",
       "      <td>non-stop</td>\n",
       "      <td>No info</td>\n",
       "      <td>3897.0</td>\n",
       "      <td>BLR → DEL</td>\n",
       "      <td>24</td>\n",
       "      <td>3</td>\n",
       "      <td>22</td>\n",
       "      <td>20</td>\n",
       "      <td>1</td>\n",
       "      <td>10</td>\n",
       "    </tr>\n",
       "    <tr>\n",
       "      <th>1</th>\n",
       "      <td>Air India</td>\n",
       "      <td>Kolkata</td>\n",
       "      <td>Banglore</td>\n",
       "      <td>7h 25m</td>\n",
       "      <td>2 stops</td>\n",
       "      <td>No info</td>\n",
       "      <td>7662.0</td>\n",
       "      <td>CCU → IXR → BBI → BLR</td>\n",
       "      <td>1</td>\n",
       "      <td>5</td>\n",
       "      <td>5</td>\n",
       "      <td>50</td>\n",
       "      <td>13</td>\n",
       "      <td>15</td>\n",
       "    </tr>\n",
       "    <tr>\n",
       "      <th>2</th>\n",
       "      <td>Jet Airways</td>\n",
       "      <td>Delhi</td>\n",
       "      <td>Cochin</td>\n",
       "      <td>19h</td>\n",
       "      <td>2 stops</td>\n",
       "      <td>No info</td>\n",
       "      <td>13882.0</td>\n",
       "      <td>DEL → LKO → BOM → COK</td>\n",
       "      <td>9</td>\n",
       "      <td>6</td>\n",
       "      <td>9</td>\n",
       "      <td>25</td>\n",
       "      <td>4</td>\n",
       "      <td>25</td>\n",
       "    </tr>\n",
       "    <tr>\n",
       "      <th>3</th>\n",
       "      <td>IndiGo</td>\n",
       "      <td>Kolkata</td>\n",
       "      <td>Banglore</td>\n",
       "      <td>5h 25m</td>\n",
       "      <td>1 stop</td>\n",
       "      <td>No info</td>\n",
       "      <td>6218.0</td>\n",
       "      <td>CCU → NAG → BLR</td>\n",
       "      <td>12</td>\n",
       "      <td>5</td>\n",
       "      <td>18</td>\n",
       "      <td>5</td>\n",
       "      <td>23</td>\n",
       "      <td>30</td>\n",
       "    </tr>\n",
       "    <tr>\n",
       "      <th>4</th>\n",
       "      <td>IndiGo</td>\n",
       "      <td>Banglore</td>\n",
       "      <td>New Delhi</td>\n",
       "      <td>4h 45m</td>\n",
       "      <td>1 stop</td>\n",
       "      <td>No info</td>\n",
       "      <td>13302.0</td>\n",
       "      <td>BLR → NAG → DEL</td>\n",
       "      <td>1</td>\n",
       "      <td>3</td>\n",
       "      <td>16</td>\n",
       "      <td>50</td>\n",
       "      <td>21</td>\n",
       "      <td>35</td>\n",
       "    </tr>\n",
       "  </tbody>\n",
       "</table>\n",
       "</div>"
      ],
      "text/plain": [
       "       Airline    Source Destination Duration Total_Stops Additional_Info  \\\n",
       "0       IndiGo  Banglore   New Delhi   2h 50m    non-stop         No info   \n",
       "1    Air India   Kolkata    Banglore   7h 25m     2 stops         No info   \n",
       "2  Jet Airways     Delhi      Cochin      19h     2 stops         No info   \n",
       "3       IndiGo   Kolkata    Banglore   5h 25m      1 stop         No info   \n",
       "4       IndiGo  Banglore   New Delhi   4h 45m      1 stop         No info   \n",
       "\n",
       "     Price                  Route  journey_day  journey_month  dep_hour  \\\n",
       "0   3897.0              BLR → DEL           24              3        22   \n",
       "1   7662.0  CCU → IXR → BBI → BLR            1              5         5   \n",
       "2  13882.0  DEL → LKO → BOM → COK            9              6         9   \n",
       "3   6218.0        CCU → NAG → BLR           12              5        18   \n",
       "4  13302.0        BLR → NAG → DEL            1              3        16   \n",
       "\n",
       "   dep_min  arrival_hour  arrival_min  \n",
       "0       20             1           10  \n",
       "1       50            13           15  \n",
       "2       25             4           25  \n",
       "3        5            23           30  \n",
       "4       50            21           35  "
      ]
     },
     "execution_count": 12,
     "metadata": {},
     "output_type": "execute_result"
    }
   ],
   "source": [
    "dataset.head()"
   ]
  },
  {
   "cell_type": "code",
   "execution_count": 13,
   "metadata": {
    "id": "d0alujNSlZkK"
   },
   "outputs": [],
   "source": [
    "# len('2h 50m'.split())"
   ]
  },
  {
   "cell_type": "code",
   "execution_count": 14,
   "metadata": {
    "colab": {
     "base_uri": "https://localhost:8080/",
     "height": 617
    },
    "executionInfo": {
     "elapsed": 32,
     "status": "ok",
     "timestamp": 1661672214909,
     "user": {
      "displayName": "Skillcate AI",
      "userId": "11062674699417926870"
     },
     "user_tz": -330
    },
    "id": "0JqtBNwAS1Fg",
    "outputId": "023f01da-9f5f-4c0a-fd46-bb3081e6b023"
   },
   "outputs": [
    {
     "data": {
      "text/html": [
       "<div>\n",
       "<style scoped>\n",
       "    .dataframe tbody tr th:only-of-type {\n",
       "        vertical-align: middle;\n",
       "    }\n",
       "\n",
       "    .dataframe tbody tr th {\n",
       "        vertical-align: top;\n",
       "    }\n",
       "\n",
       "    .dataframe thead th {\n",
       "        text-align: right;\n",
       "    }\n",
       "</style>\n",
       "<table border=\"1\" class=\"dataframe\">\n",
       "  <thead>\n",
       "    <tr style=\"text-align: right;\">\n",
       "      <th></th>\n",
       "      <th>Airline</th>\n",
       "      <th>Source</th>\n",
       "      <th>Destination</th>\n",
       "      <th>Total_Stops</th>\n",
       "      <th>Additional_Info</th>\n",
       "      <th>Price</th>\n",
       "      <th>Route</th>\n",
       "      <th>journey_day</th>\n",
       "      <th>journey_month</th>\n",
       "      <th>dep_hour</th>\n",
       "      <th>dep_min</th>\n",
       "      <th>arrival_hour</th>\n",
       "      <th>arrival_min</th>\n",
       "      <th>Duration_hours</th>\n",
       "      <th>Duration_mins</th>\n",
       "    </tr>\n",
       "  </thead>\n",
       "  <tbody>\n",
       "    <tr>\n",
       "      <th>0</th>\n",
       "      <td>IndiGo</td>\n",
       "      <td>Banglore</td>\n",
       "      <td>New Delhi</td>\n",
       "      <td>non-stop</td>\n",
       "      <td>No info</td>\n",
       "      <td>3897.0</td>\n",
       "      <td>BLR → DEL</td>\n",
       "      <td>24</td>\n",
       "      <td>3</td>\n",
       "      <td>22</td>\n",
       "      <td>20</td>\n",
       "      <td>1</td>\n",
       "      <td>10</td>\n",
       "      <td>2</td>\n",
       "      <td>50</td>\n",
       "    </tr>\n",
       "    <tr>\n",
       "      <th>1</th>\n",
       "      <td>Air India</td>\n",
       "      <td>Kolkata</td>\n",
       "      <td>Banglore</td>\n",
       "      <td>2 stops</td>\n",
       "      <td>No info</td>\n",
       "      <td>7662.0</td>\n",
       "      <td>CCU → IXR → BBI → BLR</td>\n",
       "      <td>1</td>\n",
       "      <td>5</td>\n",
       "      <td>5</td>\n",
       "      <td>50</td>\n",
       "      <td>13</td>\n",
       "      <td>15</td>\n",
       "      <td>7</td>\n",
       "      <td>25</td>\n",
       "    </tr>\n",
       "    <tr>\n",
       "      <th>2</th>\n",
       "      <td>Jet Airways</td>\n",
       "      <td>Delhi</td>\n",
       "      <td>Cochin</td>\n",
       "      <td>2 stops</td>\n",
       "      <td>No info</td>\n",
       "      <td>13882.0</td>\n",
       "      <td>DEL → LKO → BOM → COK</td>\n",
       "      <td>9</td>\n",
       "      <td>6</td>\n",
       "      <td>9</td>\n",
       "      <td>25</td>\n",
       "      <td>4</td>\n",
       "      <td>25</td>\n",
       "      <td>19</td>\n",
       "      <td>0</td>\n",
       "    </tr>\n",
       "    <tr>\n",
       "      <th>3</th>\n",
       "      <td>IndiGo</td>\n",
       "      <td>Kolkata</td>\n",
       "      <td>Banglore</td>\n",
       "      <td>1 stop</td>\n",
       "      <td>No info</td>\n",
       "      <td>6218.0</td>\n",
       "      <td>CCU → NAG → BLR</td>\n",
       "      <td>12</td>\n",
       "      <td>5</td>\n",
       "      <td>18</td>\n",
       "      <td>5</td>\n",
       "      <td>23</td>\n",
       "      <td>30</td>\n",
       "      <td>5</td>\n",
       "      <td>25</td>\n",
       "    </tr>\n",
       "    <tr>\n",
       "      <th>4</th>\n",
       "      <td>IndiGo</td>\n",
       "      <td>Banglore</td>\n",
       "      <td>New Delhi</td>\n",
       "      <td>1 stop</td>\n",
       "      <td>No info</td>\n",
       "      <td>13302.0</td>\n",
       "      <td>BLR → NAG → DEL</td>\n",
       "      <td>1</td>\n",
       "      <td>3</td>\n",
       "      <td>16</td>\n",
       "      <td>50</td>\n",
       "      <td>21</td>\n",
       "      <td>35</td>\n",
       "      <td>4</td>\n",
       "      <td>45</td>\n",
       "    </tr>\n",
       "  </tbody>\n",
       "</table>\n",
       "</div>"
      ],
      "text/plain": [
       "       Airline    Source Destination Total_Stops Additional_Info    Price  \\\n",
       "0       IndiGo  Banglore   New Delhi    non-stop         No info   3897.0   \n",
       "1    Air India   Kolkata    Banglore     2 stops         No info   7662.0   \n",
       "2  Jet Airways     Delhi      Cochin     2 stops         No info  13882.0   \n",
       "3       IndiGo   Kolkata    Banglore      1 stop         No info   6218.0   \n",
       "4       IndiGo  Banglore   New Delhi      1 stop         No info  13302.0   \n",
       "\n",
       "                   Route  journey_day  journey_month  dep_hour  dep_min  \\\n",
       "0              BLR → DEL           24              3        22       20   \n",
       "1  CCU → IXR → BBI → BLR            1              5         5       50   \n",
       "2  DEL → LKO → BOM → COK            9              6         9       25   \n",
       "3        CCU → NAG → BLR           12              5        18        5   \n",
       "4        BLR → NAG → DEL            1              3        16       50   \n",
       "\n",
       "   arrival_hour  arrival_min  Duration_hours  Duration_mins  \n",
       "0             1           10               2             50  \n",
       "1            13           15               7             25  \n",
       "2             4           25              19              0  \n",
       "3            23           30               5             25  \n",
       "4            21           35               4             45  "
      ]
     },
     "execution_count": 14,
     "metadata": {},
     "output_type": "execute_result"
    }
   ],
   "source": [
    "# Duration is the time taken by plane to reach destination\n",
    "# It is the difference betwen Arrival Time and Departure time\n",
    "# Assigning and converting Duration column into list, for looping through\n",
    "duration = list(dataset[\"Duration\"])\n",
    "# In table above, Row Index=2, we have Duration = 19h (missing minutes)\n",
    "# Looping through all duration values\n",
    "# To ensure it has both hours & mins: 'xh ym'\n",
    "for i in range(len(duration)):\n",
    "    if len(duration[i].split()) != 2:    # Check if duration contains only hour or mins\n",
    "        if \"h\" in duration[i]:\n",
    "            duration[i] = duration[i].strip() + \" 0m\"   # Adds 0 minute\n",
    "        else:\n",
    "            duration[i] = \"0h \" + duration[i]           # Adds 0 hour\n",
    "# Prepare separate duration_hours and duration_mins lists\n",
    "duration_hours = []\n",
    "duration_mins = []\n",
    "for i in range(len(duration)):\n",
    "    duration_hours.append(int(duration[i].split(sep = \"h\")[0]))    # Extract hours from duration\n",
    "    duration_mins.append(int(duration[i].split(sep = \"m\")[0].split()[-1]))   # Extracts only minutes from duration\n",
    "\n",
    "# Add duration_hours and duration_mins list to our dataset df\n",
    "dataset[\"Duration_hours\"] = duration_hours\n",
    "dataset[\"Duration_mins\"] = duration_mins\n",
    "# Drop Duration column from the dataset\n",
    "dataset.drop([\"Duration\"], axis = 1, inplace = True)\n",
    "\n",
    "dataset.head()"
   ]
  },
  {
   "cell_type": "markdown",
   "metadata": {
    "id": "X-A9XYVMS1Fh"
   },
   "source": [
    " #Handling Categorical Data:\n",
    "\n",
    "**`Airline`, `Source`, `Destination`, `Route`, `Total_Stops`, `Additional_Info` are all categorical.** One can find many ways to handle categorical data, like:\n",
    "1. <span style=\"color: blue;\">**Nominal data**</span> --> data is not in any order --> <span style=\"color: green;\">**OneHotEncoder**</span> is used in this case\n",
    "2. <span style=\"color: blue;\">**Ordinal data**</span> --> data is in order --> <span style=\"color: green;\">**LabelEncoder**</span> is used in this case"
   ]
  },
  {
   "cell_type": "code",
   "execution_count": 15,
   "metadata": {
    "colab": {
     "base_uri": "https://localhost:8080/"
    },
    "executionInfo": {
     "elapsed": 31,
     "status": "ok",
     "timestamp": 1661672214909,
     "user": {
      "displayName": "Skillcate AI",
      "userId": "11062674699417926870"
     },
     "user_tz": -330
    },
    "id": "SUQOO8irS1Fh",
    "outputId": "8243ece0-6802-4d13-bf5c-b90dae9f7cc3"
   },
   "outputs": [
    {
     "data": {
      "text/plain": [
       "Airline\n",
       "Jet Airways                          3849\n",
       "IndiGo                               2053\n",
       "Air India                            1751\n",
       "Multiple carriers                    1196\n",
       "SpiceJet                              818\n",
       "Vistara                               479\n",
       "Air Asia                              319\n",
       "GoAir                                 194\n",
       "Multiple carriers Premium economy      13\n",
       "Jet Airways Business                    6\n",
       "Vistara Premium economy                 3\n",
       "Trujet                                  1\n",
       "Name: count, dtype: int64"
      ]
     },
     "execution_count": 15,
     "metadata": {},
     "output_type": "execute_result"
    }
   ],
   "source": [
    "# Feature engineering on: Airline\n",
    "dataset[\"Airline\"].value_counts()"
   ]
  },
  {
   "cell_type": "code",
   "execution_count": 16,
   "metadata": {
    "colab": {
     "base_uri": "https://localhost:8080/"
    },
    "executionInfo": {
     "elapsed": 27,
     "status": "ok",
     "timestamp": 1661672214909,
     "user": {
      "displayName": "Skillcate AI",
      "userId": "11062674699417926870"
     },
     "user_tz": -330
    },
    "id": "dkJgriADe4jh",
    "outputId": "4628c369-eb41-4fa7-ac56-c2840c42350a"
   },
   "outputs": [
    {
     "name": "stderr",
     "output_type": "stream",
     "text": [
      "C:\\Users\\sankh\\AppData\\Local\\Temp\\ipykernel_20860\\2493631532.py:13: SettingWithCopyWarning: \n",
      "A value is trying to be set on a copy of a slice from a DataFrame.\n",
      "Try using .loc[row_indexer,col_indexer] = value instead\n",
      "\n",
      "See the caveats in the documentation: https://pandas.pydata.org/pandas-docs/stable/user_guide/indexing.html#returning-a-view-versus-a-copy\n",
      "  Airline['Airline'] = pd.DataFrame(New_Airline_List)\n"
     ]
    },
    {
     "data": {
      "text/plain": [
       "Airline\n",
       "Jet Airways          3849\n",
       "IndiGo               2053\n",
       "Air India            1750\n",
       "Multiple carriers    1196\n",
       "SpiceJet              818\n",
       "Vistara               479\n",
       "Air Asia              319\n",
       "GoAir                 194\n",
       "Other                  23\n",
       "Name: count, dtype: int64"
      ]
     },
     "execution_count": 16,
     "metadata": {},
     "output_type": "execute_result"
    }
   ],
   "source": [
    "# As Airline is Nominal Categorical data we will perform OneHotEncoding\n",
    "Airline = dataset[[\"Airline\"]]\n",
    "Current_Airline_List = Airline['Airline']\n",
    "New_Airline_List = []\n",
    "\n",
    "for carrier in Current_Airline_List:\n",
    "  if carrier in ['Jet Airways', 'IndiGo', 'Air India', 'SpiceJet',\n",
    "       'Multiple carriers', 'GoAir', 'Vistara', 'Air Asia']:\n",
    "    New_Airline_List.append(carrier)\n",
    "  else:\n",
    "    New_Airline_List.append('Other')\n",
    "\n",
    "Airline['Airline'] = pd.DataFrame(New_Airline_List)\n",
    "Airline['Airline'].value_counts()"
   ]
  },
  {
   "cell_type": "code",
   "execution_count": 17,
   "metadata": {
    "colab": {
     "base_uri": "https://localhost:8080/",
     "height": 206
    },
    "executionInfo": {
     "elapsed": 25,
     "status": "ok",
     "timestamp": 1661672214910,
     "user": {
      "displayName": "Skillcate AI",
      "userId": "11062674699417926870"
     },
     "user_tz": -330
    },
    "id": "soPl0ATSS1Fh",
    "outputId": "0a790c3d-3ca6-4a23-9157-84d54f652190"
   },
   "outputs": [
    {
     "data": {
      "text/html": [
       "<div>\n",
       "<style scoped>\n",
       "    .dataframe tbody tr th:only-of-type {\n",
       "        vertical-align: middle;\n",
       "    }\n",
       "\n",
       "    .dataframe tbody tr th {\n",
       "        vertical-align: top;\n",
       "    }\n",
       "\n",
       "    .dataframe thead th {\n",
       "        text-align: right;\n",
       "    }\n",
       "</style>\n",
       "<table border=\"1\" class=\"dataframe\">\n",
       "  <thead>\n",
       "    <tr style=\"text-align: right;\">\n",
       "      <th></th>\n",
       "      <th>Airline_Air India</th>\n",
       "      <th>Airline_GoAir</th>\n",
       "      <th>Airline_IndiGo</th>\n",
       "      <th>Airline_Jet Airways</th>\n",
       "      <th>Airline_Multiple carriers</th>\n",
       "      <th>Airline_Other</th>\n",
       "      <th>Airline_SpiceJet</th>\n",
       "      <th>Airline_Vistara</th>\n",
       "    </tr>\n",
       "  </thead>\n",
       "  <tbody>\n",
       "    <tr>\n",
       "      <th>0</th>\n",
       "      <td>False</td>\n",
       "      <td>False</td>\n",
       "      <td>True</td>\n",
       "      <td>False</td>\n",
       "      <td>False</td>\n",
       "      <td>False</td>\n",
       "      <td>False</td>\n",
       "      <td>False</td>\n",
       "    </tr>\n",
       "    <tr>\n",
       "      <th>1</th>\n",
       "      <td>True</td>\n",
       "      <td>False</td>\n",
       "      <td>False</td>\n",
       "      <td>False</td>\n",
       "      <td>False</td>\n",
       "      <td>False</td>\n",
       "      <td>False</td>\n",
       "      <td>False</td>\n",
       "    </tr>\n",
       "    <tr>\n",
       "      <th>2</th>\n",
       "      <td>False</td>\n",
       "      <td>False</td>\n",
       "      <td>False</td>\n",
       "      <td>True</td>\n",
       "      <td>False</td>\n",
       "      <td>False</td>\n",
       "      <td>False</td>\n",
       "      <td>False</td>\n",
       "    </tr>\n",
       "    <tr>\n",
       "      <th>3</th>\n",
       "      <td>False</td>\n",
       "      <td>False</td>\n",
       "      <td>True</td>\n",
       "      <td>False</td>\n",
       "      <td>False</td>\n",
       "      <td>False</td>\n",
       "      <td>False</td>\n",
       "      <td>False</td>\n",
       "    </tr>\n",
       "    <tr>\n",
       "      <th>4</th>\n",
       "      <td>False</td>\n",
       "      <td>False</td>\n",
       "      <td>True</td>\n",
       "      <td>False</td>\n",
       "      <td>False</td>\n",
       "      <td>False</td>\n",
       "      <td>False</td>\n",
       "      <td>False</td>\n",
       "    </tr>\n",
       "  </tbody>\n",
       "</table>\n",
       "</div>"
      ],
      "text/plain": [
       "   Airline_Air India  Airline_GoAir  Airline_IndiGo  Airline_Jet Airways  \\\n",
       "0              False          False            True                False   \n",
       "1               True          False           False                False   \n",
       "2              False          False           False                 True   \n",
       "3              False          False            True                False   \n",
       "4              False          False            True                False   \n",
       "\n",
       "   Airline_Multiple carriers  Airline_Other  Airline_SpiceJet  Airline_Vistara  \n",
       "0                      False          False             False            False  \n",
       "1                      False          False             False            False  \n",
       "2                      False          False             False            False  \n",
       "3                      False          False             False            False  \n",
       "4                      False          False             False            False  "
      ]
     },
     "execution_count": 17,
     "metadata": {},
     "output_type": "execute_result"
    }
   ],
   "source": [
    "Airline = pd.get_dummies(Airline, drop_first= True)\n",
    "Airline.head()"
   ]
  },
  {
   "cell_type": "code",
   "execution_count": 18,
   "metadata": {
    "colab": {
     "base_uri": "https://localhost:8080/"
    },
    "executionInfo": {
     "elapsed": 24,
     "status": "ok",
     "timestamp": 1661672214910,
     "user": {
      "displayName": "Skillcate AI",
      "userId": "11062674699417926870"
     },
     "user_tz": -330
    },
    "id": "mPeuBE9OS1Fi",
    "outputId": "d0fcfc3a-86c3-4fe8-fa3f-57aa161bbbbe"
   },
   "outputs": [
    {
     "data": {
      "text/plain": [
       "Source\n",
       "Delhi       4536\n",
       "Kolkata     2871\n",
       "Banglore    2197\n",
       "Mumbai       697\n",
       "Chennai      381\n",
       "Name: count, dtype: int64"
      ]
     },
     "execution_count": 18,
     "metadata": {},
     "output_type": "execute_result"
    }
   ],
   "source": [
    "# Feature engineering on: Source\n",
    "dataset[\"Source\"].value_counts()"
   ]
  },
  {
   "cell_type": "code",
   "execution_count": 19,
   "metadata": {
    "colab": {
     "base_uri": "https://localhost:8080/",
     "height": 206
    },
    "executionInfo": {
     "elapsed": 22,
     "status": "ok",
     "timestamp": 1661672214910,
     "user": {
      "displayName": "Skillcate AI",
      "userId": "11062674699417926870"
     },
     "user_tz": -330
    },
    "id": "AJggB_CdS1Fi",
    "outputId": "53be28fd-d4d3-425a-f369-473f28c38390"
   },
   "outputs": [
    {
     "data": {
      "text/html": [
       "<div>\n",
       "<style scoped>\n",
       "    .dataframe tbody tr th:only-of-type {\n",
       "        vertical-align: middle;\n",
       "    }\n",
       "\n",
       "    .dataframe tbody tr th {\n",
       "        vertical-align: top;\n",
       "    }\n",
       "\n",
       "    .dataframe thead th {\n",
       "        text-align: right;\n",
       "    }\n",
       "</style>\n",
       "<table border=\"1\" class=\"dataframe\">\n",
       "  <thead>\n",
       "    <tr style=\"text-align: right;\">\n",
       "      <th></th>\n",
       "      <th>Source_Chennai</th>\n",
       "      <th>Source_Delhi</th>\n",
       "      <th>Source_Kolkata</th>\n",
       "      <th>Source_Mumbai</th>\n",
       "    </tr>\n",
       "  </thead>\n",
       "  <tbody>\n",
       "    <tr>\n",
       "      <th>0</th>\n",
       "      <td>False</td>\n",
       "      <td>False</td>\n",
       "      <td>False</td>\n",
       "      <td>False</td>\n",
       "    </tr>\n",
       "    <tr>\n",
       "      <th>1</th>\n",
       "      <td>False</td>\n",
       "      <td>False</td>\n",
       "      <td>True</td>\n",
       "      <td>False</td>\n",
       "    </tr>\n",
       "    <tr>\n",
       "      <th>2</th>\n",
       "      <td>False</td>\n",
       "      <td>True</td>\n",
       "      <td>False</td>\n",
       "      <td>False</td>\n",
       "    </tr>\n",
       "    <tr>\n",
       "      <th>3</th>\n",
       "      <td>False</td>\n",
       "      <td>False</td>\n",
       "      <td>True</td>\n",
       "      <td>False</td>\n",
       "    </tr>\n",
       "    <tr>\n",
       "      <th>4</th>\n",
       "      <td>False</td>\n",
       "      <td>False</td>\n",
       "      <td>False</td>\n",
       "      <td>False</td>\n",
       "    </tr>\n",
       "  </tbody>\n",
       "</table>\n",
       "</div>"
      ],
      "text/plain": [
       "   Source_Chennai  Source_Delhi  Source_Kolkata  Source_Mumbai\n",
       "0           False         False           False          False\n",
       "1           False         False            True          False\n",
       "2           False          True           False          False\n",
       "3           False         False            True          False\n",
       "4           False         False           False          False"
      ]
     },
     "execution_count": 19,
     "metadata": {},
     "output_type": "execute_result"
    }
   ],
   "source": [
    "# As Source is Nominal Categorical data we will perform OneHotEncoding\n",
    "Source = dataset[[\"Source\"]]\n",
    "Source = pd.get_dummies(Source, drop_first= True) \n",
    "# drop_first= True means we drop the first column to prevent multicollinearity\n",
    "Source.head()"
   ]
  },
  {
   "cell_type": "code",
   "execution_count": 20,
   "metadata": {
    "colab": {
     "base_uri": "https://localhost:8080/"
    },
    "executionInfo": {
     "elapsed": 21,
     "status": "ok",
     "timestamp": 1661672214910,
     "user": {
      "displayName": "Skillcate AI",
      "userId": "11062674699417926870"
     },
     "user_tz": -330
    },
    "id": "WvrboCFCS1Fi",
    "outputId": "bbaccd3a-9cdc-4385-accf-ce5d9f7c868d"
   },
   "outputs": [
    {
     "data": {
      "text/plain": [
       "Destination\n",
       "Cochin       4536\n",
       "Banglore     2871\n",
       "Delhi        1265\n",
       "New Delhi     932\n",
       "Hyderabad     697\n",
       "Kolkata       381\n",
       "Name: count, dtype: int64"
      ]
     },
     "execution_count": 20,
     "metadata": {},
     "output_type": "execute_result"
    }
   ],
   "source": [
    "# Feature engineering on: Destination\n",
    "dataset[\"Destination\"].value_counts()"
   ]
  },
  {
   "cell_type": "code",
   "execution_count": 21,
   "metadata": {
    "colab": {
     "base_uri": "https://localhost:8080/",
     "height": 310
    },
    "executionInfo": {
     "elapsed": 20,
     "status": "ok",
     "timestamp": 1661672214910,
     "user": {
      "displayName": "Skillcate AI",
      "userId": "11062674699417926870"
     },
     "user_tz": -330
    },
    "id": "MEUP2BEO2TBq",
    "outputId": "8d253879-906a-4b73-d78c-3d2d3ae2f80b"
   },
   "outputs": [
    {
     "name": "stderr",
     "output_type": "stream",
     "text": [
      "C:\\Users\\sankh\\AppData\\Local\\Temp\\ipykernel_20860\\3333656992.py:12: SettingWithCopyWarning: \n",
      "A value is trying to be set on a copy of a slice from a DataFrame.\n",
      "Try using .loc[row_indexer,col_indexer] = value instead\n",
      "\n",
      "See the caveats in the documentation: https://pandas.pydata.org/pandas-docs/stable/user_guide/indexing.html#returning-a-view-versus-a-copy\n",
      "  Destination['Destination'] = pd.DataFrame(New_Destination_List)\n"
     ]
    },
    {
     "data": {
      "text/html": [
       "<div>\n",
       "<style scoped>\n",
       "    .dataframe tbody tr th:only-of-type {\n",
       "        vertical-align: middle;\n",
       "    }\n",
       "\n",
       "    .dataframe tbody tr th {\n",
       "        vertical-align: top;\n",
       "    }\n",
       "\n",
       "    .dataframe thead th {\n",
       "        text-align: right;\n",
       "    }\n",
       "</style>\n",
       "<table border=\"1\" class=\"dataframe\">\n",
       "  <thead>\n",
       "    <tr style=\"text-align: right;\">\n",
       "      <th></th>\n",
       "      <th>Destination_Cochin</th>\n",
       "      <th>Destination_Delhi</th>\n",
       "      <th>Destination_Hyderabad</th>\n",
       "      <th>Destination_Kolkata</th>\n",
       "    </tr>\n",
       "  </thead>\n",
       "  <tbody>\n",
       "    <tr>\n",
       "      <th>0</th>\n",
       "      <td>False</td>\n",
       "      <td>True</td>\n",
       "      <td>False</td>\n",
       "      <td>False</td>\n",
       "    </tr>\n",
       "    <tr>\n",
       "      <th>1</th>\n",
       "      <td>False</td>\n",
       "      <td>False</td>\n",
       "      <td>False</td>\n",
       "      <td>False</td>\n",
       "    </tr>\n",
       "    <tr>\n",
       "      <th>2</th>\n",
       "      <td>True</td>\n",
       "      <td>False</td>\n",
       "      <td>False</td>\n",
       "      <td>False</td>\n",
       "    </tr>\n",
       "    <tr>\n",
       "      <th>3</th>\n",
       "      <td>False</td>\n",
       "      <td>False</td>\n",
       "      <td>False</td>\n",
       "      <td>False</td>\n",
       "    </tr>\n",
       "    <tr>\n",
       "      <th>4</th>\n",
       "      <td>False</td>\n",
       "      <td>True</td>\n",
       "      <td>False</td>\n",
       "      <td>False</td>\n",
       "    </tr>\n",
       "  </tbody>\n",
       "</table>\n",
       "</div>"
      ],
      "text/plain": [
       "   Destination_Cochin  Destination_Delhi  Destination_Hyderabad  \\\n",
       "0               False               True                  False   \n",
       "1               False              False                  False   \n",
       "2                True              False                  False   \n",
       "3               False              False                  False   \n",
       "4               False               True                  False   \n",
       "\n",
       "   Destination_Kolkata  \n",
       "0                False  \n",
       "1                False  \n",
       "2                False  \n",
       "3                False  \n",
       "4                False  "
      ]
     },
     "execution_count": 21,
     "metadata": {},
     "output_type": "execute_result"
    }
   ],
   "source": [
    "# Renaming destination 'New Delhi' to 'Delhi' - to match with Source\n",
    "Destination = dataset[[\"Destination\"]]\n",
    "Current_Destination_List = Destination['Destination']\n",
    "New_Destination_List = []\n",
    "\n",
    "for value in Current_Destination_List:\n",
    "  if value in ['New Delhi']:\n",
    "    New_Destination_List.append('Delhi')\n",
    "  else:\n",
    "    New_Destination_List.append(value)\n",
    "\n",
    "Destination['Destination'] = pd.DataFrame(New_Destination_List)\n",
    "\n",
    "# As Destination is Nominal Categorical data we will perform OneHotEncoding\n",
    "Destination = pd.get_dummies(Destination, drop_first = True)\n",
    "Destination.head()"
   ]
  },
  {
   "cell_type": "code",
   "execution_count": 22,
   "metadata": {
    "id": "Vg2gE6rxS1Fi"
   },
   "outputs": [],
   "source": [
    "# Additional_Info contains almost 80% no_info\n",
    "# Route and Total_Stops are related to each other\n",
    "dataset.drop([\"Route\", \"Additional_Info\"], axis = 1, inplace = True)"
   ]
  },
  {
   "cell_type": "code",
   "execution_count": 23,
   "metadata": {
    "colab": {
     "base_uri": "https://localhost:8080/"
    },
    "executionInfo": {
     "elapsed": 19,
     "status": "ok",
     "timestamp": 1661672214911,
     "user": {
      "displayName": "Skillcate AI",
      "userId": "11062674699417926870"
     },
     "user_tz": -330
    },
    "id": "TMiL6MZ4S1Fi",
    "outputId": "8274a6ad-4e8b-4082-8ea6-976b99d591db"
   },
   "outputs": [
    {
     "data": {
      "text/plain": [
       "Total_Stops\n",
       "1 stop      5625\n",
       "non-stop    3491\n",
       "2 stops     1520\n",
       "3 stops       45\n",
       "4 stops        1\n",
       "Name: count, dtype: int64"
      ]
     },
     "execution_count": 23,
     "metadata": {},
     "output_type": "execute_result"
    }
   ],
   "source": [
    "# Feature engineering on: Total_Stops\n",
    "dataset[\"Total_Stops\"].value_counts()"
   ]
  },
  {
   "cell_type": "code",
   "execution_count": 24,
   "metadata": {
    "colab": {
     "base_uri": "https://localhost:8080/",
     "height": 206
    },
    "executionInfo": {
     "elapsed": 17,
     "status": "ok",
     "timestamp": 1661672214911,
     "user": {
      "displayName": "Skillcate AI",
      "userId": "11062674699417926870"
     },
     "user_tz": -330
    },
    "id": "myZ0fz8LS1Fi",
    "outputId": "6f3568d5-8339-4b24-c054-c27bf257da6f"
   },
   "outputs": [
    {
     "data": {
      "text/html": [
       "<div>\n",
       "<style scoped>\n",
       "    .dataframe tbody tr th:only-of-type {\n",
       "        vertical-align: middle;\n",
       "    }\n",
       "\n",
       "    .dataframe tbody tr th {\n",
       "        vertical-align: top;\n",
       "    }\n",
       "\n",
       "    .dataframe thead th {\n",
       "        text-align: right;\n",
       "    }\n",
       "</style>\n",
       "<table border=\"1\" class=\"dataframe\">\n",
       "  <thead>\n",
       "    <tr style=\"text-align: right;\">\n",
       "      <th></th>\n",
       "      <th>Airline</th>\n",
       "      <th>Source</th>\n",
       "      <th>Destination</th>\n",
       "      <th>Total_Stops</th>\n",
       "      <th>Price</th>\n",
       "      <th>journey_day</th>\n",
       "      <th>journey_month</th>\n",
       "      <th>dep_hour</th>\n",
       "      <th>dep_min</th>\n",
       "      <th>arrival_hour</th>\n",
       "      <th>arrival_min</th>\n",
       "      <th>Duration_hours</th>\n",
       "      <th>Duration_mins</th>\n",
       "    </tr>\n",
       "  </thead>\n",
       "  <tbody>\n",
       "    <tr>\n",
       "      <th>0</th>\n",
       "      <td>IndiGo</td>\n",
       "      <td>Banglore</td>\n",
       "      <td>New Delhi</td>\n",
       "      <td>0</td>\n",
       "      <td>3897.0</td>\n",
       "      <td>24</td>\n",
       "      <td>3</td>\n",
       "      <td>22</td>\n",
       "      <td>20</td>\n",
       "      <td>1</td>\n",
       "      <td>10</td>\n",
       "      <td>2</td>\n",
       "      <td>50</td>\n",
       "    </tr>\n",
       "    <tr>\n",
       "      <th>1</th>\n",
       "      <td>Air India</td>\n",
       "      <td>Kolkata</td>\n",
       "      <td>Banglore</td>\n",
       "      <td>2</td>\n",
       "      <td>7662.0</td>\n",
       "      <td>1</td>\n",
       "      <td>5</td>\n",
       "      <td>5</td>\n",
       "      <td>50</td>\n",
       "      <td>13</td>\n",
       "      <td>15</td>\n",
       "      <td>7</td>\n",
       "      <td>25</td>\n",
       "    </tr>\n",
       "    <tr>\n",
       "      <th>2</th>\n",
       "      <td>Jet Airways</td>\n",
       "      <td>Delhi</td>\n",
       "      <td>Cochin</td>\n",
       "      <td>2</td>\n",
       "      <td>13882.0</td>\n",
       "      <td>9</td>\n",
       "      <td>6</td>\n",
       "      <td>9</td>\n",
       "      <td>25</td>\n",
       "      <td>4</td>\n",
       "      <td>25</td>\n",
       "      <td>19</td>\n",
       "      <td>0</td>\n",
       "    </tr>\n",
       "    <tr>\n",
       "      <th>3</th>\n",
       "      <td>IndiGo</td>\n",
       "      <td>Kolkata</td>\n",
       "      <td>Banglore</td>\n",
       "      <td>1</td>\n",
       "      <td>6218.0</td>\n",
       "      <td>12</td>\n",
       "      <td>5</td>\n",
       "      <td>18</td>\n",
       "      <td>5</td>\n",
       "      <td>23</td>\n",
       "      <td>30</td>\n",
       "      <td>5</td>\n",
       "      <td>25</td>\n",
       "    </tr>\n",
       "    <tr>\n",
       "      <th>4</th>\n",
       "      <td>IndiGo</td>\n",
       "      <td>Banglore</td>\n",
       "      <td>New Delhi</td>\n",
       "      <td>1</td>\n",
       "      <td>13302.0</td>\n",
       "      <td>1</td>\n",
       "      <td>3</td>\n",
       "      <td>16</td>\n",
       "      <td>50</td>\n",
       "      <td>21</td>\n",
       "      <td>35</td>\n",
       "      <td>4</td>\n",
       "      <td>45</td>\n",
       "    </tr>\n",
       "  </tbody>\n",
       "</table>\n",
       "</div>"
      ],
      "text/plain": [
       "       Airline    Source Destination  Total_Stops    Price  journey_day  \\\n",
       "0       IndiGo  Banglore   New Delhi            0   3897.0           24   \n",
       "1    Air India   Kolkata    Banglore            2   7662.0            1   \n",
       "2  Jet Airways     Delhi      Cochin            2  13882.0            9   \n",
       "3       IndiGo   Kolkata    Banglore            1   6218.0           12   \n",
       "4       IndiGo  Banglore   New Delhi            1  13302.0            1   \n",
       "\n",
       "   journey_month  dep_hour  dep_min  arrival_hour  arrival_min  \\\n",
       "0              3        22       20             1           10   \n",
       "1              5         5       50            13           15   \n",
       "2              6         9       25             4           25   \n",
       "3              5        18        5            23           30   \n",
       "4              3        16       50            21           35   \n",
       "\n",
       "   Duration_hours  Duration_mins  \n",
       "0               2             50  \n",
       "1               7             25  \n",
       "2              19              0  \n",
       "3               5             25  \n",
       "4               4             45  "
      ]
     },
     "execution_count": 24,
     "metadata": {},
     "output_type": "execute_result"
    }
   ],
   "source": [
    "# As this is case of Ordinal Categorical type we perform LabelEncoder\n",
    "# Here Values are assigned with corresponding keys\n",
    "dataset.replace({\"non-stop\": 0, \"1 stop\": 1, \"2 stops\": 2, \"3 stops\": 3, \"4 stops\": 4}, inplace = True)\n",
    "dataset.head()"
   ]
  },
  {
   "cell_type": "code",
   "execution_count": 25,
   "metadata": {
    "colab": {
     "base_uri": "https://localhost:8080/",
     "height": 287
    },
    "executionInfo": {
     "elapsed": 17,
     "status": "ok",
     "timestamp": 1661672214911,
     "user": {
      "displayName": "Skillcate AI",
      "userId": "11062674699417926870"
     },
     "user_tz": -330
    },
    "id": "v_G3ZVrXS1Fj",
    "outputId": "1a88db78-eb18-4105-ee15-49616fb23e63"
   },
   "outputs": [
    {
     "data": {
      "text/html": [
       "<div>\n",
       "<style scoped>\n",
       "    .dataframe tbody tr th:only-of-type {\n",
       "        vertical-align: middle;\n",
       "    }\n",
       "\n",
       "    .dataframe tbody tr th {\n",
       "        vertical-align: top;\n",
       "    }\n",
       "\n",
       "    .dataframe thead th {\n",
       "        text-align: right;\n",
       "    }\n",
       "</style>\n",
       "<table border=\"1\" class=\"dataframe\">\n",
       "  <thead>\n",
       "    <tr style=\"text-align: right;\">\n",
       "      <th></th>\n",
       "      <th>Total_Stops</th>\n",
       "      <th>Price</th>\n",
       "      <th>journey_day</th>\n",
       "      <th>journey_month</th>\n",
       "      <th>dep_hour</th>\n",
       "      <th>dep_min</th>\n",
       "      <th>arrival_hour</th>\n",
       "      <th>arrival_min</th>\n",
       "      <th>Duration_hours</th>\n",
       "      <th>Duration_mins</th>\n",
       "      <th>Airline_Air India</th>\n",
       "      <th>Airline_GoAir</th>\n",
       "      <th>Airline_IndiGo</th>\n",
       "      <th>Airline_Jet Airways</th>\n",
       "      <th>Airline_Multiple carriers</th>\n",
       "      <th>Airline_Other</th>\n",
       "      <th>Airline_SpiceJet</th>\n",
       "      <th>Airline_Vistara</th>\n",
       "      <th>Source_Chennai</th>\n",
       "      <th>Source_Delhi</th>\n",
       "      <th>Source_Kolkata</th>\n",
       "      <th>Source_Mumbai</th>\n",
       "      <th>Destination_Cochin</th>\n",
       "      <th>Destination_Delhi</th>\n",
       "      <th>Destination_Hyderabad</th>\n",
       "      <th>Destination_Kolkata</th>\n",
       "    </tr>\n",
       "  </thead>\n",
       "  <tbody>\n",
       "    <tr>\n",
       "      <th>0</th>\n",
       "      <td>0</td>\n",
       "      <td>3897.0</td>\n",
       "      <td>24</td>\n",
       "      <td>3</td>\n",
       "      <td>22</td>\n",
       "      <td>20</td>\n",
       "      <td>1</td>\n",
       "      <td>10</td>\n",
       "      <td>2</td>\n",
       "      <td>50</td>\n",
       "      <td>False</td>\n",
       "      <td>False</td>\n",
       "      <td>True</td>\n",
       "      <td>False</td>\n",
       "      <td>False</td>\n",
       "      <td>False</td>\n",
       "      <td>False</td>\n",
       "      <td>False</td>\n",
       "      <td>False</td>\n",
       "      <td>False</td>\n",
       "      <td>False</td>\n",
       "      <td>False</td>\n",
       "      <td>False</td>\n",
       "      <td>True</td>\n",
       "      <td>False</td>\n",
       "      <td>False</td>\n",
       "    </tr>\n",
       "    <tr>\n",
       "      <th>1</th>\n",
       "      <td>2</td>\n",
       "      <td>7662.0</td>\n",
       "      <td>1</td>\n",
       "      <td>5</td>\n",
       "      <td>5</td>\n",
       "      <td>50</td>\n",
       "      <td>13</td>\n",
       "      <td>15</td>\n",
       "      <td>7</td>\n",
       "      <td>25</td>\n",
       "      <td>True</td>\n",
       "      <td>False</td>\n",
       "      <td>False</td>\n",
       "      <td>False</td>\n",
       "      <td>False</td>\n",
       "      <td>False</td>\n",
       "      <td>False</td>\n",
       "      <td>False</td>\n",
       "      <td>False</td>\n",
       "      <td>False</td>\n",
       "      <td>True</td>\n",
       "      <td>False</td>\n",
       "      <td>False</td>\n",
       "      <td>False</td>\n",
       "      <td>False</td>\n",
       "      <td>False</td>\n",
       "    </tr>\n",
       "    <tr>\n",
       "      <th>2</th>\n",
       "      <td>2</td>\n",
       "      <td>13882.0</td>\n",
       "      <td>9</td>\n",
       "      <td>6</td>\n",
       "      <td>9</td>\n",
       "      <td>25</td>\n",
       "      <td>4</td>\n",
       "      <td>25</td>\n",
       "      <td>19</td>\n",
       "      <td>0</td>\n",
       "      <td>False</td>\n",
       "      <td>False</td>\n",
       "      <td>False</td>\n",
       "      <td>True</td>\n",
       "      <td>False</td>\n",
       "      <td>False</td>\n",
       "      <td>False</td>\n",
       "      <td>False</td>\n",
       "      <td>False</td>\n",
       "      <td>True</td>\n",
       "      <td>False</td>\n",
       "      <td>False</td>\n",
       "      <td>True</td>\n",
       "      <td>False</td>\n",
       "      <td>False</td>\n",
       "      <td>False</td>\n",
       "    </tr>\n",
       "    <tr>\n",
       "      <th>3</th>\n",
       "      <td>1</td>\n",
       "      <td>6218.0</td>\n",
       "      <td>12</td>\n",
       "      <td>5</td>\n",
       "      <td>18</td>\n",
       "      <td>5</td>\n",
       "      <td>23</td>\n",
       "      <td>30</td>\n",
       "      <td>5</td>\n",
       "      <td>25</td>\n",
       "      <td>False</td>\n",
       "      <td>False</td>\n",
       "      <td>True</td>\n",
       "      <td>False</td>\n",
       "      <td>False</td>\n",
       "      <td>False</td>\n",
       "      <td>False</td>\n",
       "      <td>False</td>\n",
       "      <td>False</td>\n",
       "      <td>False</td>\n",
       "      <td>True</td>\n",
       "      <td>False</td>\n",
       "      <td>False</td>\n",
       "      <td>False</td>\n",
       "      <td>False</td>\n",
       "      <td>False</td>\n",
       "    </tr>\n",
       "    <tr>\n",
       "      <th>4</th>\n",
       "      <td>1</td>\n",
       "      <td>13302.0</td>\n",
       "      <td>1</td>\n",
       "      <td>3</td>\n",
       "      <td>16</td>\n",
       "      <td>50</td>\n",
       "      <td>21</td>\n",
       "      <td>35</td>\n",
       "      <td>4</td>\n",
       "      <td>45</td>\n",
       "      <td>False</td>\n",
       "      <td>False</td>\n",
       "      <td>True</td>\n",
       "      <td>False</td>\n",
       "      <td>False</td>\n",
       "      <td>False</td>\n",
       "      <td>False</td>\n",
       "      <td>False</td>\n",
       "      <td>False</td>\n",
       "      <td>False</td>\n",
       "      <td>False</td>\n",
       "      <td>False</td>\n",
       "      <td>False</td>\n",
       "      <td>True</td>\n",
       "      <td>False</td>\n",
       "      <td>False</td>\n",
       "    </tr>\n",
       "  </tbody>\n",
       "</table>\n",
       "</div>"
      ],
      "text/plain": [
       "   Total_Stops    Price  journey_day  journey_month  dep_hour  dep_min  \\\n",
       "0            0   3897.0           24              3        22       20   \n",
       "1            2   7662.0            1              5         5       50   \n",
       "2            2  13882.0            9              6         9       25   \n",
       "3            1   6218.0           12              5        18        5   \n",
       "4            1  13302.0            1              3        16       50   \n",
       "\n",
       "   arrival_hour  arrival_min  Duration_hours  Duration_mins  \\\n",
       "0             1           10               2             50   \n",
       "1            13           15               7             25   \n",
       "2             4           25              19              0   \n",
       "3            23           30               5             25   \n",
       "4            21           35               4             45   \n",
       "\n",
       "   Airline_Air India  Airline_GoAir  Airline_IndiGo  Airline_Jet Airways  \\\n",
       "0              False          False            True                False   \n",
       "1               True          False           False                False   \n",
       "2              False          False           False                 True   \n",
       "3              False          False            True                False   \n",
       "4              False          False            True                False   \n",
       "\n",
       "   Airline_Multiple carriers  Airline_Other  Airline_SpiceJet  \\\n",
       "0                      False          False             False   \n",
       "1                      False          False             False   \n",
       "2                      False          False             False   \n",
       "3                      False          False             False   \n",
       "4                      False          False             False   \n",
       "\n",
       "   Airline_Vistara  Source_Chennai  Source_Delhi  Source_Kolkata  \\\n",
       "0            False           False         False           False   \n",
       "1            False           False         False            True   \n",
       "2            False           False          True           False   \n",
       "3            False           False         False            True   \n",
       "4            False           False         False           False   \n",
       "\n",
       "   Source_Mumbai  Destination_Cochin  Destination_Delhi  \\\n",
       "0          False               False               True   \n",
       "1          False               False              False   \n",
       "2          False                True              False   \n",
       "3          False               False              False   \n",
       "4          False               False               True   \n",
       "\n",
       "   Destination_Hyderabad  Destination_Kolkata  \n",
       "0                  False                False  \n",
       "1                  False                False  \n",
       "2                  False                False  \n",
       "3                  False                False  \n",
       "4                  False                False  "
      ]
     },
     "execution_count": 25,
     "metadata": {},
     "output_type": "execute_result"
    }
   ],
   "source": [
    "# Concatenate dataframe --> train_data + Airline + Source + Destination\n",
    "data_train = pd.concat([dataset, Airline, Source, Destination], axis = 1) # axis = 1 signifies column\n",
    "data_train.drop([\"Airline\", \"Source\", \"Destination\"], axis = 1, inplace = True)\n",
    "data_train.head()"
   ]
  },
  {
   "cell_type": "code",
   "execution_count": 26,
   "metadata": {
    "colab": {
     "base_uri": "https://localhost:8080/"
    },
    "executionInfo": {
     "elapsed": 16,
     "status": "ok",
     "timestamp": 1661672214912,
     "user": {
      "displayName": "Skillcate AI",
      "userId": "11062674699417926870"
     },
     "user_tz": -330
    },
    "id": "dOytf6t3S1Fj",
    "outputId": "eb8eb12f-751d-4460-e1c5-b27c334ab7d5"
   },
   "outputs": [
    {
     "data": {
      "text/plain": [
       "(10682, 26)"
      ]
     },
     "execution_count": 26,
     "metadata": {},
     "output_type": "execute_result"
    }
   ],
   "source": [
    "data_train.shape"
   ]
  },
  {
   "cell_type": "markdown",
   "metadata": {
    "id": "SEP5wMxQS1Fk"
   },
   "source": [
    "#Feature Selection\n",
    "\n",
    "Finding out the best feature which will contribute and have good relation with target variable.\n",
    "Following are some of the feature selection methods:\n",
    "\n",
    "\n",
    "1. <span style=\"color: purple;\">**feature_importance_**</span>: To check for relative feature importance\n",
    "2. <span style=\"color: purple;\">**Variable Inflation Factor (VIF)**</span>: To check for multicollinearity"
   ]
  },
  {
   "cell_type": "code",
   "execution_count": 27,
   "metadata": {
    "id": "A8jHpbjSS1Fk"
   },
   "outputs": [
    {
     "data": {
      "text/plain": [
       "Index(['Total_Stops', 'Price', 'journey_day', 'journey_month', 'dep_hour',\n",
       "       'dep_min', 'arrival_hour', 'arrival_min', 'Duration_hours',\n",
       "       'Duration_mins', 'Airline_Air India', 'Airline_GoAir', 'Airline_IndiGo',\n",
       "       'Airline_Jet Airways', 'Airline_Multiple carriers', 'Airline_Other',\n",
       "       'Airline_SpiceJet', 'Airline_Vistara', 'Source_Chennai', 'Source_Delhi',\n",
       "       'Source_Kolkata', 'Source_Mumbai', 'Destination_Cochin',\n",
       "       'Destination_Delhi', 'Destination_Hyderabad', 'Destination_Kolkata'],\n",
       "      dtype='object')"
      ]
     },
     "execution_count": 27,
     "metadata": {},
     "output_type": "execute_result"
    }
   ],
   "source": [
    " data_train.columns"
   ]
  },
  {
   "cell_type": "code",
   "execution_count": 28,
   "metadata": {
    "colab": {
     "base_uri": "https://localhost:8080/"
    },
    "executionInfo": {
     "elapsed": 14,
     "status": "ok",
     "timestamp": 1661672214912,
     "user": {
      "displayName": "Skillcate AI",
      "userId": "11062674699417926870"
     },
     "user_tz": -330
    },
    "id": "wAWy6A20S1Fk",
    "outputId": "c26ed489-885c-43ff-9b2d-149470af8bc3"
   },
   "outputs": [
    {
     "name": "stdout",
     "output_type": "stream",
     "text": [
      "(10682, 25) (10682,)\n"
     ]
    }
   ],
   "source": [
    "X = data_train.loc[:, ['Total_Stops', 'journey_day', 'journey_month', 'dep_hour',\n",
    "       'dep_min', 'arrival_hour', 'arrival_min', 'Duration_hours',\n",
    "       'Duration_mins', 'Airline_Air India', 'Airline_GoAir', 'Airline_IndiGo',\n",
    "       'Airline_Jet Airways', 'Airline_Multiple carriers', 'Airline_Other',\n",
    "       'Airline_SpiceJet', 'Airline_Vistara', 'Source_Chennai', 'Source_Delhi',\n",
    "       'Source_Kolkata', 'Source_Mumbai', 'Destination_Cochin',\n",
    "       'Destination_Delhi', 'Destination_Hyderabad', 'Destination_Kolkata']]\n",
    "y = data_train.iloc[:, 1]\n",
    "\n",
    "print(X.shape, y.shape)"
   ]
  },
  {
   "cell_type": "markdown",
   "metadata": {
    "id": "HeS_DjXc5ayE"
   },
   "source": [
    "#feature_importance_"
   ]
  },
  {
   "cell_type": "code",
   "execution_count": 29,
   "metadata": {
    "colab": {
     "base_uri": "https://localhost:8080/"
    },
    "executionInfo": {
     "elapsed": 3188,
     "status": "ok",
     "timestamp": 1661672218088,
     "user": {
      "displayName": "Skillcate AI",
      "userId": "11062674699417926870"
     },
     "user_tz": -330
    },
    "id": "_R2HKxjwS1Fk",
    "outputId": "b83b577f-9141-4b96-c22b-8cea03fceebe"
   },
   "outputs": [
    {
     "name": "stdout",
     "output_type": "stream",
     "text": [
      "[0.22839731 0.13574062 0.06821073 0.02996819 0.02801004 0.03652567\n",
      " 0.02526711 0.15969491 0.02196579 0.00711869 0.002082   0.01345597\n",
      " 0.10434791 0.01383695 0.02487226 0.00361334 0.00544285 0.00093374\n",
      " 0.02181053 0.01282379 0.01603741 0.00795363 0.02558037 0.00391202\n",
      " 0.00239819]\n"
     ]
    }
   ],
   "source": [
    "# Important feature using ExtraTreesRegressor\n",
    "from sklearn.ensemble import ExtraTreesRegressor\n",
    "selection = ExtraTreesRegressor()\n",
    "selection.fit(X, y)\n",
    "\n",
    "print(selection.feature_importances_)"
   ]
  },
  {
   "cell_type": "code",
   "execution_count": 30,
   "metadata": {
    "colab": {
     "base_uri": "https://localhost:8080/",
     "height": 485
    },
    "executionInfo": {
     "elapsed": 1209,
     "status": "ok",
     "timestamp": 1661672219286,
     "user": {
      "displayName": "Skillcate AI",
      "userId": "11062674699417926870"
     },
     "user_tz": -330
    },
    "id": "XDqTCwDTS1Fl",
    "outputId": "4111be0c-e15d-4590-ffea-3b42955e21da"
   },
   "outputs": [
    {
     "data": {
      "image/png": "[encoded data removed]",
      "text/plain": [
       "<Figure size 1200x800 with 1 Axes>"
      ]
     },
     "metadata": {},
     "output_type": "display_data"
    }
   ],
   "source": [
    "#plot graph of feature importances for better visualization\n",
    "plt.figure(figsize = (12,8))\n",
    "feat_importances = pd.Series(selection.feature_importances_, index=X.columns)\n",
    "feat_importances.nlargest(25).plot(kind='barh')\n",
    "plt.show()"
   ]
  },
  {
   "cell_type": "markdown",
   "metadata": {
    "id": "hiqMNCUH50LT"
   },
   "source": [
    "#VIF - Multicollinearity:"
   ]
  },
  {
   "cell_type": "code",
   "execution_count": 31,
   "metadata": {
    "id": "E0vbxppVmuFr"
   },
   "outputs": [],
   "source": [
    "# Checking for Multicollinearity\n",
    "from statsmodels.stats.outliers_influence import variance_inflation_factor\n",
    "def calc_vif(z):\n",
    "    # Calculating Variable Inflation Factor (VIF)\n",
    "    vif = pd.DataFrame()\n",
    "    vif[\"variables\"] = z.columns\n",
    "    vif[\"VIF\"] = [variance_inflation_factor(z.values, i) for i in range(z.shape[1])]\n",
    "    return(vif)"
   ]
  },
  {
   "cell_type": "code",
   "execution_count": 32,
   "metadata": {
    "colab": {
     "base_uri": "https://localhost:8080/",
     "height": 287
    },
    "executionInfo": {
     "elapsed": 10,
     "status": "ok",
     "timestamp": 1661672220184,
     "user": {
      "displayName": "Skillcate AI",
      "userId": "11062674699417926870"
     },
     "user_tz": -330
    },
    "id": "EEejlvy4rjhI",
    "outputId": "8a58cc1e-003e-47e8-c576-918511607193"
   },
   "outputs": [
    {
     "data": {
      "text/html": [
       "<div>\n",
       "<style scoped>\n",
       "    .dataframe tbody tr th:only-of-type {\n",
       "        vertical-align: middle;\n",
       "    }\n",
       "\n",
       "    .dataframe tbody tr th {\n",
       "        vertical-align: top;\n",
       "    }\n",
       "\n",
       "    .dataframe thead th {\n",
       "        text-align: right;\n",
       "    }\n",
       "</style>\n",
       "<table border=\"1\" class=\"dataframe\">\n",
       "  <thead>\n",
       "    <tr style=\"text-align: right;\">\n",
       "      <th></th>\n",
       "      <th>Total_Stops</th>\n",
       "      <th>journey_day</th>\n",
       "      <th>journey_month</th>\n",
       "      <th>dep_hour</th>\n",
       "      <th>dep_min</th>\n",
       "      <th>arrival_hour</th>\n",
       "      <th>arrival_min</th>\n",
       "      <th>Duration_hours</th>\n",
       "      <th>Duration_mins</th>\n",
       "      <th>Airline_Air India</th>\n",
       "      <th>Airline_GoAir</th>\n",
       "      <th>Airline_IndiGo</th>\n",
       "      <th>Airline_Jet Airways</th>\n",
       "      <th>Airline_Multiple carriers</th>\n",
       "      <th>Airline_Other</th>\n",
       "      <th>Airline_SpiceJet</th>\n",
       "      <th>Airline_Vistara</th>\n",
       "      <th>Source_Chennai</th>\n",
       "      <th>Source_Kolkata</th>\n",
       "      <th>Source_Mumbai</th>\n",
       "      <th>Destination_Cochin</th>\n",
       "      <th>Destination_Delhi</th>\n",
       "      <th>Destination_Hyderabad</th>\n",
       "      <th>Destination_Kolkata</th>\n",
       "    </tr>\n",
       "  </thead>\n",
       "  <tbody>\n",
       "    <tr>\n",
       "      <th>0</th>\n",
       "      <td>0</td>\n",
       "      <td>24</td>\n",
       "      <td>3</td>\n",
       "      <td>22</td>\n",
       "      <td>20</td>\n",
       "      <td>1</td>\n",
       "      <td>10</td>\n",
       "      <td>2</td>\n",
       "      <td>50</td>\n",
       "      <td>False</td>\n",
       "      <td>False</td>\n",
       "      <td>True</td>\n",
       "      <td>False</td>\n",
       "      <td>False</td>\n",
       "      <td>False</td>\n",
       "      <td>False</td>\n",
       "      <td>False</td>\n",
       "      <td>False</td>\n",
       "      <td>False</td>\n",
       "      <td>False</td>\n",
       "      <td>False</td>\n",
       "      <td>True</td>\n",
       "      <td>False</td>\n",
       "      <td>False</td>\n",
       "    </tr>\n",
       "    <tr>\n",
       "      <th>1</th>\n",
       "      <td>2</td>\n",
       "      <td>1</td>\n",
       "      <td>5</td>\n",
       "      <td>5</td>\n",
       "      <td>50</td>\n",
       "      <td>13</td>\n",
       "      <td>15</td>\n",
       "      <td>7</td>\n",
       "      <td>25</td>\n",
       "      <td>True</td>\n",
       "      <td>False</td>\n",
       "      <td>False</td>\n",
       "      <td>False</td>\n",
       "      <td>False</td>\n",
       "      <td>False</td>\n",
       "      <td>False</td>\n",
       "      <td>False</td>\n",
       "      <td>False</td>\n",
       "      <td>True</td>\n",
       "      <td>False</td>\n",
       "      <td>False</td>\n",
       "      <td>False</td>\n",
       "      <td>False</td>\n",
       "      <td>False</td>\n",
       "    </tr>\n",
       "    <tr>\n",
       "      <th>2</th>\n",
       "      <td>2</td>\n",
       "      <td>9</td>\n",
       "      <td>6</td>\n",
       "      <td>9</td>\n",
       "      <td>25</td>\n",
       "      <td>4</td>\n",
       "      <td>25</td>\n",
       "      <td>19</td>\n",
       "      <td>0</td>\n",
       "      <td>False</td>\n",
       "      <td>False</td>\n",
       "      <td>False</td>\n",
       "      <td>True</td>\n",
       "      <td>False</td>\n",
       "      <td>False</td>\n",
       "      <td>False</td>\n",
       "      <td>False</td>\n",
       "      <td>False</td>\n",
       "      <td>False</td>\n",
       "      <td>False</td>\n",
       "      <td>True</td>\n",
       "      <td>False</td>\n",
       "      <td>False</td>\n",
       "      <td>False</td>\n",
       "    </tr>\n",
       "    <tr>\n",
       "      <th>3</th>\n",
       "      <td>1</td>\n",
       "      <td>12</td>\n",
       "      <td>5</td>\n",
       "      <td>18</td>\n",
       "      <td>5</td>\n",
       "      <td>23</td>\n",
       "      <td>30</td>\n",
       "      <td>5</td>\n",
       "      <td>25</td>\n",
       "      <td>False</td>\n",
       "      <td>False</td>\n",
       "      <td>True</td>\n",
       "      <td>False</td>\n",
       "      <td>False</td>\n",
       "      <td>False</td>\n",
       "      <td>False</td>\n",
       "      <td>False</td>\n",
       "      <td>False</td>\n",
       "      <td>True</td>\n",
       "      <td>False</td>\n",
       "      <td>False</td>\n",
       "      <td>False</td>\n",
       "      <td>False</td>\n",
       "      <td>False</td>\n",
       "    </tr>\n",
       "    <tr>\n",
       "      <th>4</th>\n",
       "      <td>1</td>\n",
       "      <td>1</td>\n",
       "      <td>3</td>\n",
       "      <td>16</td>\n",
       "      <td>50</td>\n",
       "      <td>21</td>\n",
       "      <td>35</td>\n",
       "      <td>4</td>\n",
       "      <td>45</td>\n",
       "      <td>False</td>\n",
       "      <td>False</td>\n",
       "      <td>True</td>\n",
       "      <td>False</td>\n",
       "      <td>False</td>\n",
       "      <td>False</td>\n",
       "      <td>False</td>\n",
       "      <td>False</td>\n",
       "      <td>False</td>\n",
       "      <td>False</td>\n",
       "      <td>False</td>\n",
       "      <td>False</td>\n",
       "      <td>True</td>\n",
       "      <td>False</td>\n",
       "      <td>False</td>\n",
       "    </tr>\n",
       "  </tbody>\n",
       "</table>\n",
       "</div>"
      ],
      "text/plain": [
       "   Total_Stops  journey_day  journey_month  dep_hour  dep_min  arrival_hour  \\\n",
       "0            0           24              3        22       20             1   \n",
       "1            2            1              5         5       50            13   \n",
       "2            2            9              6         9       25             4   \n",
       "3            1           12              5        18        5            23   \n",
       "4            1            1              3        16       50            21   \n",
       "\n",
       "   arrival_min  Duration_hours  Duration_mins  Airline_Air India  \\\n",
       "0           10               2             50              False   \n",
       "1           15               7             25               True   \n",
       "2           25              19              0              False   \n",
       "3           30               5             25              False   \n",
       "4           35               4             45              False   \n",
       "\n",
       "   Airline_GoAir  Airline_IndiGo  Airline_Jet Airways  \\\n",
       "0          False            True                False   \n",
       "1          False           False                False   \n",
       "2          False           False                 True   \n",
       "3          False            True                False   \n",
       "4          False            True                False   \n",
       "\n",
       "   Airline_Multiple carriers  Airline_Other  Airline_SpiceJet  \\\n",
       "0                      False          False             False   \n",
       "1                      False          False             False   \n",
       "2                      False          False             False   \n",
       "3                      False          False             False   \n",
       "4                      False          False             False   \n",
       "\n",
       "   Airline_Vistara  Source_Chennai  Source_Kolkata  Source_Mumbai  \\\n",
       "0            False           False           False          False   \n",
       "1            False           False            True          False   \n",
       "2            False           False           False          False   \n",
       "3            False           False            True          False   \n",
       "4            False           False           False          False   \n",
       "\n",
       "   Destination_Cochin  Destination_Delhi  Destination_Hyderabad  \\\n",
       "0               False               True                  False   \n",
       "1               False              False                  False   \n",
       "2                True              False                  False   \n",
       "3               False              False                  False   \n",
       "4               False               True                  False   \n",
       "\n",
       "   Destination_Kolkata  \n",
       "0                False  \n",
       "1                False  \n",
       "2                False  \n",
       "3                False  \n",
       "4                False  "
      ]
     },
     "execution_count": 32,
     "metadata": {},
     "output_type": "execute_result"
    }
   ],
   "source": [
    "# Drop 'Source_Delhi'\n",
    "X = data_train.loc[:, ['Total_Stops', 'journey_day', 'journey_month', 'dep_hour',\n",
    "       'dep_min', 'arrival_hour', 'arrival_min', 'Duration_hours',\n",
    "       'Duration_mins', 'Airline_Air India', 'Airline_GoAir', 'Airline_IndiGo',\n",
    "       'Airline_Jet Airways', 'Airline_Multiple carriers', 'Airline_Other',\n",
    "       'Airline_SpiceJet', 'Airline_Vistara', 'Source_Chennai',\n",
    "       'Source_Kolkata', 'Source_Mumbai', 'Destination_Cochin',\n",
    "       'Destination_Delhi', 'Destination_Hyderabad', 'Destination_Kolkata']]\n",
    "X.head()"
   ]
  },
  {
   "cell_type": "markdown",
   "metadata": {
    "id": "NpdCnWZJS1Fl"
   },
   "source": [
    "#Fit model - Random Forest\n",
    "\n",
    "1. Split dataset into train and test set in order to predict, w.r.t, X_test\n",
    "2. If needed do scaling of data\n",
    "    * Scaling is not required in Random forest\n",
    "3. Train Model\n",
    "4. Gauge Model Performance\n",
    "5. In regression check **RSME** Score"
   ]
  },
  {
   "cell_type": "code",
   "execution_count": 33,
   "metadata": {
    "id": "Ot0B6DehS1Fl"
   },
   "outputs": [],
   "source": [
    "from sklearn.model_selection import train_test_split\n",
    "X_train, X_test, y_train, y_test = train_test_split(X, y, test_size = 0.2, random_state = 42)"
   ]
  },
  {
   "cell_type": "code",
   "execution_count": 40,
   "metadata": {
    "colab": {
     "base_uri": "https://localhost:8080/"
    },
    "executionInfo": {
     "elapsed": 1985,
     "status": "ok",
     "timestamp": 1661672222163,
     "user": {
      "displayName": "Skillcate AI",
      "userId": "11062674699417926870"
     },
     "user_tz": -330
    },
    "id": "RmuPTH6nS1Fl",
    "outputId": "a3fdc1e2-c81d-4da5-e37c-b9894272401b"
   },
   "outputs": [
    {
     "data": {
      "text/html": [
       "<style>#sk-container-id-2 {color: black;}#sk-container-id-2 pre{padding: 0;}#sk-container-id-2 div.sk-toggleable {background-color: white;}#sk-container-id-2 label.sk-toggleable__label {cursor: pointer;display: block;width: 100%;margin-bottom: 0;padding: 0.3em;box-sizing: border-box;text-align: center;}#sk-container-id-2 label.sk-toggleable__label-arrow:before {content: \"▸\";float: left;margin-right: 0.25em;color: #696969;}#sk-container-id-2 label.sk-toggleable__label-arrow:hover:before {color: black;}#sk-container-id-2 div.sk-estimator:hover label.sk-toggleable__label-arrow:before {color: black;}#sk-container-id-2 div.sk-toggleable__content {max-height: 0;max-width: 0;overflow: hidden;text-align: left;background-color: #f0f8ff;}#sk-container-id-2 div.sk-toggleable__content pre {margin: 0.2em;color: black;border-radius: 0.25em;background-color: #f0f8ff;}#sk-container-id-2 input.sk-toggleable__control:checked~div.sk-toggleable__content {max-height: 200px;max-width: 100%;overflow: auto;}#sk-container-id-2 input.sk-toggleable__control:checked~label.sk-toggleable__label-arrow:before {content: \"▾\";}#sk-container-id-2 div.sk-estimator input.sk-toggleable__control:checked~label.sk-toggleable__label {background-color: #d4ebff;}#sk-container-id-2 div.sk-label input.sk-toggleable__control:checked~label.sk-toggleable__label {background-color: #d4ebff;}#sk-container-id-2 input.sk-hidden--visually {border: 0;clip: rect(1px 1px 1px 1px);clip: rect(1px, 1px, 1px, 1px);height: 1px;margin: -1px;overflow: hidden;padding: 0;position: absolute;width: 1px;}#sk-container-id-2 div.sk-estimator {font-family: monospace;background-color: #f0f8ff;border: 1px dotted black;border-radius: 0.25em;box-sizing: border-box;margin-bottom: 0.5em;}#sk-container-id-2 div.sk-estimator:hover {background-color: #d4ebff;}#sk-container-id-2 div.sk-parallel-item::after {content: \"\";width: 100%;border-bottom: 1px solid gray;flex-grow: 1;}#sk-container-id-2 div.sk-label:hover label.sk-toggleable__label {background-color: #d4ebff;}#sk-container-id-2 div.sk-serial::before {content: \"\";position: absolute;border-left: 1px solid gray;box-sizing: border-box;top: 0;bottom: 0;left: 50%;z-index: 0;}#sk-container-id-2 div.sk-serial {display: flex;flex-direction: column;align-items: center;background-color: white;padding-right: 0.2em;padding-left: 0.2em;position: relative;}#sk-container-id-2 div.sk-item {position: relative;z-index: 1;}#sk-container-id-2 div.sk-parallel {display: flex;align-items: stretch;justify-content: center;background-color: white;position: relative;}#sk-container-id-2 div.sk-item::before, #sk-container-id-2 div.sk-parallel-item::before {content: \"\";position: absolute;border-left: 1px solid gray;box-sizing: border-box;top: 0;bottom: 0;left: 50%;z-index: -1;}#sk-container-id-2 div.sk-parallel-item {display: flex;flex-direction: column;z-index: 1;position: relative;background-color: white;}#sk-container-id-2 div.sk-parallel-item:first-child::after {align-self: flex-end;width: 50%;}#sk-container-id-2 div.sk-parallel-item:last-child::after {align-self: flex-start;width: 50%;}#sk-container-id-2 div.sk-parallel-item:only-child::after {width: 0;}#sk-container-id-2 div.sk-dashed-wrapped {border: 1px dashed gray;margin: 0 0.4em 0.5em 0.4em;box-sizing: border-box;padding-bottom: 0.4em;background-color: white;}#sk-container-id-2 div.sk-label label {font-family: monospace;font-weight: bold;display: inline-block;line-height: 1.2em;}#sk-container-id-2 div.sk-label-container {text-align: center;}#sk-container-id-2 div.sk-container {/* jupyter's `normalize.less` sets `[hidden] { display: none; }` but bootstrap.min.css set `[hidden] { display: none !important; }` so we also need the `!important` here to be able to override the default hidden behavior on the sphinx rendered scikit-learn.org. See: https://github.com/scikit-learn/scikit-learn/issues/21755 */display: inline-block !important;position: relative;}#sk-container-id-2 div.sk-text-repr-fallback {display: none;}</style><div id=\"sk-container-id-2\" class=\"sk-top-container\"><div class=\"sk-text-repr-fallback\"><pre>RandomForestRegressor()</pre><b>In a Jupyter environment, please rerun this cell to show the HTML representation or trust the notebook. <br />On GitHub, the HTML representation is unable to render, please try loading this page with nbviewer.org.</b></div><div class=\"sk-container\" hidden><div class=\"sk-item\"><div class=\"sk-estimator sk-toggleable\"><input class=\"sk-toggleable__control sk-hidden--visually\" id=\"sk-estimator-id-2\" type=\"checkbox\" checked><label for=\"sk-estimator-id-2\" class=\"sk-toggleable__label sk-toggleable__label-arrow\">RandomForestRegressor</label><div class=\"sk-toggleable__content\"><pre>RandomForestRegressor()</pre></div></div></div></div></div>"
      ],
      "text/plain": [
       "RandomForestRegressor()"
      ]
     },
     "execution_count": 40,
     "metadata": {},
     "output_type": "execute_result"
    }
   ],
   "source": [
    "from sklearn.ensemble import RandomForestRegressor\n",
    "rf_reg = RandomForestRegressor()\n",
    "rf_reg.fit(X_train, y_train)"
   ]
  },
  {
   "cell_type": "markdown",
   "metadata": {
    "id": "txn0DDgf8Da-"
   },
   "source": [
    "#Model Performance:"
   ]
  },
  {
   "cell_type": "code",
   "execution_count": 35,
   "metadata": {
    "colab": {
     "base_uri": "https://localhost:8080/"
    },
    "executionInfo": {
     "elapsed": 785,
     "status": "ok",
     "timestamp": 1661672222947,
     "user": {
      "displayName": "Skillcate AI",
      "userId": "11062674699417926870"
     },
     "user_tz": -330
    },
    "id": "qykQeIpsS1Fl",
    "outputId": "13b108e6-0ed6-4045-f5ca-ed5b5f870aab"
   },
   "outputs": [
    {
     "name": "stdout",
     "output_type": "stream",
     "text": [
      "Model Performance on Training Set: 95.3\n",
      "Model Performance on Test Set: 76.23\n"
     ]
    }
   ],
   "source": [
    "print('Model Performance on Training Set:', round(rf_reg.score(X_train, y_train)*100,2))\n",
    "print('Model Performance on Test Set:', round(rf_reg.score(X_test, y_test)*100,2))"
   ]
  },
  {
   "cell_type": "code",
   "execution_count": 36,
   "metadata": {
    "colab": {
     "base_uri": "https://localhost:8080/",
     "height": 285
    },
    "executionInfo": {
     "elapsed": 8,
     "status": "ok",
     "timestamp": 1661672222947,
     "user": {
      "displayName": "Skillcate AI",
      "userId": "11062674699417926870"
     },
     "user_tz": -330
    },
    "id": "w0fLHmzsS1Fl",
    "outputId": "6f63f7a3-2772-40b0-9972-4e5dc4963b54"
   },
   "outputs": [
    {
     "data": {
      "image/png": "[encoded data removed]",
      "text/plain": [
       "<Figure size 640x480 with 1 Axes>"
      ]
     },
     "metadata": {},
     "output_type": "display_data"
    }
   ],
   "source": [
    "# Plot performance graph\n",
    "y_pred = rf_reg.predict(X_test)\n",
    "plt.scatter(y_test, y_pred, alpha = 0.5)\n",
    "plt.xlabel(\"y_test\")\n",
    "plt.ylabel(\"y_pred\")\n",
    "plt.show()"
   ]
  },
  {
   "cell_type": "code",
   "execution_count": 37,
   "metadata": {
    "colab": {
     "base_uri": "https://localhost:8080/"
    },
    "executionInfo": {
     "elapsed": 8,
     "status": "ok",
     "timestamp": 1661672222948,
     "user": {
      "displayName": "Skillcate AI",
      "userId": "11062674699417926870"
     },
     "user_tz": -330
    },
    "id": "C8WI7In0S1Fl",
    "outputId": "c0a002be-c815-4e23-8296-2af55cac72d9"
   },
   "outputs": [
    {
     "name": "stdout",
     "output_type": "stream",
     "text": [
      "MAE: 1304.2901863806526\n",
      "MSE: 5125060.672991117\n",
      "RMSE: 2263.859684916695\n",
      "Normalized RMSE  0.04\n",
      "Max Value:  79512.0 \n",
      "Min Value:  1759.0\n"
     ]
    }
   ],
   "source": [
    "# Model Error Values\n",
    "print('MAE:', metrics.mean_absolute_error(y_test, y_pred))\n",
    "print('MSE:', metrics.mean_squared_error(y_test, y_pred))\n",
    "print('RMSE:', np.sqrt(metrics.mean_squared_error(y_test, y_pred)))\n",
    "# RMSE = sqrt((PV-OV)^2/n)\n",
    "print('Normalized RMSE ', round(np.sqrt(metrics.mean_squared_error(y_test, y_pred))/(max(y_test)-min(y_test)),2))\n",
    "# RMSE/(max(DV)-min(DV))\n",
    "print('Max Value: ', max(y), '\\nMin Value: ', min(y))"
   ]
  },
  {
   "cell_type": "markdown",
   "metadata": {
    "id": "pvYeHQpcS1Fn"
   },
   "source": [
    "#Save the model .pkl"
   ]
  },
  {
   "cell_type": "code",
   "execution_count": 38,
   "metadata": {
    "id": "h4ggjhPHS1Fn"
   },
   "outputs": [],
   "source": [
    "import pickle\n",
    "# open a file, where you ant to store the data\n",
    "file = open('c1_flight_rf.pkl', 'wb')\n",
    "# dump information to that file\n",
    "pickle.dump(rf_reg, file)"
   ]
  },
  {
   "cell_type": "markdown",
   "metadata": {
    "id": "dfw9ROxQs1HM"
   },
   "source": [
    "#Prediction on Unseen data"
   ]
  },
  {
   "cell_type": "code",
   "execution_count": 39,
   "metadata": {
    "id": "zISCE_BYuh27"
   },
   "outputs": [],
   "source": [
    "import pickle\n",
    "path = 'c1_flight_rf.pkl'\n",
    "model = open(path,'rb')\n",
    "rf_model = pickle.load(model)"
   ]
  },
  {
   "cell_type": "code",
   "execution_count": 41,
   "metadata": {
    "colab": {
     "base_uri": "https://localhost:8080/"
    },
    "executionInfo": {
     "elapsed": 829,
     "status": "ok",
     "timestamp": 1661673751101,
     "user": {
      "displayName": "Skillcate AI",
      "userId": "11062674699417926870"
     },
     "user_tz": -330
    },
    "id": "lnUogtuHs4T6",
    "outputId": "22b1294a-e8e3-45d0-ad0a-5e0b1a1d5efd"
   },
   "outputs": [
    {
     "data": {
      "text/html": [
       "<div>\n",
       "<style scoped>\n",
       "    .dataframe tbody tr th:only-of-type {\n",
       "        vertical-align: middle;\n",
       "    }\n",
       "\n",
       "    .dataframe tbody tr th {\n",
       "        vertical-align: top;\n",
       "    }\n",
       "\n",
       "    .dataframe thead th {\n",
       "        text-align: right;\n",
       "    }\n",
       "</style>\n",
       "<table border=\"1\" class=\"dataframe\">\n",
       "  <thead>\n",
       "    <tr style=\"text-align: right;\">\n",
       "      <th></th>\n",
       "      <th>Airline</th>\n",
       "      <th>Date_of_Journey</th>\n",
       "      <th>Source</th>\n",
       "      <th>Destination</th>\n",
       "      <th>Route</th>\n",
       "      <th>Dep_Time</th>\n",
       "      <th>Arrival_Time</th>\n",
       "      <th>Duration</th>\n",
       "      <th>Total_Stops</th>\n",
       "      <th>Additional_Info</th>\n",
       "      <th>Price</th>\n",
       "    </tr>\n",
       "  </thead>\n",
       "  <tbody>\n",
       "    <tr>\n",
       "      <th>0</th>\n",
       "      <td>Jet Airways</td>\n",
       "      <td>27/05/2019</td>\n",
       "      <td>Delhi</td>\n",
       "      <td>Cochin</td>\n",
       "      <td>DEL → BOM → COK</td>\n",
       "      <td>07:05</td>\n",
       "      <td>19:00</td>\n",
       "      <td>11h 55m</td>\n",
       "      <td>1 stop</td>\n",
       "      <td>In-flight meal not included</td>\n",
       "      <td>12898</td>\n",
       "    </tr>\n",
       "    <tr>\n",
       "      <th>1</th>\n",
       "      <td>IndiGo</td>\n",
       "      <td>6/03/2019</td>\n",
       "      <td>Delhi</td>\n",
       "      <td>Cochin</td>\n",
       "      <td>DEL → MAA → COK</td>\n",
       "      <td>02:05</td>\n",
       "      <td>07:25</td>\n",
       "      <td>5h 20m</td>\n",
       "      <td>1 stop</td>\n",
       "      <td>No info</td>\n",
       "      <td>10851</td>\n",
       "    </tr>\n",
       "    <tr>\n",
       "      <th>2</th>\n",
       "      <td>Air India</td>\n",
       "      <td>21/03/2019</td>\n",
       "      <td>Delhi</td>\n",
       "      <td>Cochin</td>\n",
       "      <td>DEL → BLR → COK</td>\n",
       "      <td>09:45</td>\n",
       "      <td>23:00</td>\n",
       "      <td>13h 15m</td>\n",
       "      <td>1 stop</td>\n",
       "      <td>No info</td>\n",
       "      <td>5704</td>\n",
       "    </tr>\n",
       "    <tr>\n",
       "      <th>3</th>\n",
       "      <td>Vistara</td>\n",
       "      <td>18/03/2019</td>\n",
       "      <td>Banglore</td>\n",
       "      <td>New Delhi</td>\n",
       "      <td>BLR → DEL</td>\n",
       "      <td>21:10</td>\n",
       "      <td>00:05 16 Mar</td>\n",
       "      <td>2h 55m</td>\n",
       "      <td>non-stop</td>\n",
       "      <td>No info</td>\n",
       "      <td>11598</td>\n",
       "    </tr>\n",
       "    <tr>\n",
       "      <th>4</th>\n",
       "      <td>Multiple carriers</td>\n",
       "      <td>27/05/2019</td>\n",
       "      <td>Delhi</td>\n",
       "      <td>Cochin</td>\n",
       "      <td>DEL → BOM → COK</td>\n",
       "      <td>08:30</td>\n",
       "      <td>19:15</td>\n",
       "      <td>10h 45m</td>\n",
       "      <td>1 stop</td>\n",
       "      <td>No info</td>\n",
       "      <td>9149</td>\n",
       "    </tr>\n",
       "  </tbody>\n",
       "</table>\n",
       "</div>"
      ],
      "text/plain": [
       "             Airline Date_of_Journey    Source Destination            Route  \\\n",
       "0        Jet Airways      27/05/2019     Delhi      Cochin  DEL → BOM → COK   \n",
       "1             IndiGo       6/03/2019     Delhi      Cochin  DEL → MAA → COK   \n",
       "2          Air India      21/03/2019     Delhi      Cochin  DEL → BLR → COK   \n",
       "3            Vistara      18/03/2019  Banglore   New Delhi        BLR → DEL   \n",
       "4  Multiple carriers      27/05/2019     Delhi      Cochin  DEL → BOM → COK   \n",
       "\n",
       "  Dep_Time  Arrival_Time Duration Total_Stops              Additional_Info  \\\n",
       "0    07:05         19:00  11h 55m      1 stop  In-flight meal not included   \n",
       "1    02:05         07:25   5h 20m      1 stop                      No info   \n",
       "2    09:45         23:00  13h 15m      1 stop                      No info   \n",
       "3    21:10  00:05 16 Mar   2h 55m    non-stop                      No info   \n",
       "4    08:30         19:15  10h 45m      1 stop                      No info   \n",
       "\n",
       "   Price  \n",
       "0  12898  \n",
       "1  10851  \n",
       "2   5704  \n",
       "3  11598  \n",
       "4   9149  "
      ]
     },
     "execution_count": 41,
     "metadata": {},
     "output_type": "execute_result"
    }
   ],
   "source": [
    "unseen_dataset = pd.read_csv(r'C:\\Users\\sankh\\Desktop\\project\\unseendata.csv')\n",
    "unseen_dataset.head()"
   ]
  },
  {
   "cell_type": "code",
   "execution_count": 42,
   "metadata": {
    "colab": {
     "base_uri": "https://localhost:8080/"
    },
    "executionInfo": {
     "elapsed": 750,
     "status": "ok",
     "timestamp": 1661673751846,
     "user": {
      "displayName": "Skillcate AI",
      "userId": "11062674699417926870"
     },
     "user_tz": -330
    },
    "id": "60tQPbrftMIY",
    "outputId": "c8edfb45-e155-4c24-e151-7693ed858537"
   },
   "outputs": [
    {
     "name": "stderr",
     "output_type": "stream",
     "text": [
      "C:\\Users\\sankh\\AppData\\Local\\Temp\\ipykernel_20860\\399156438.py:7: UserWarning: Could not infer format, so each element will be parsed individually, falling back to `dateutil`. To ensure parsing is consistent and as-expected, please specify a format.\n",
      "  unseen_dataset[\"dep_hour\"] = pd.to_datetime(unseen_dataset[\"Dep_Time\"]).dt.hour\n",
      "C:\\Users\\sankh\\AppData\\Local\\Temp\\ipykernel_20860\\399156438.py:8: UserWarning: Could not infer format, so each element will be parsed individually, falling back to `dateutil`. To ensure parsing is consistent and as-expected, please specify a format.\n",
      "  unseen_dataset[\"dep_min\"] = pd.to_datetime(unseen_dataset[\"Dep_Time\"]).dt.minute\n",
      "C:\\Users\\sankh\\AppData\\Local\\Temp\\ipykernel_20860\\399156438.py:11: UserWarning: Could not infer format, so each element will be parsed individually, falling back to `dateutil`. To ensure parsing is consistent and as-expected, please specify a format.\n",
      "  unseen_dataset[\"arrival_hour\"] = pd.to_datetime(unseen_dataset[\"Arrival_Time\"]).dt.hour\n",
      "C:\\Users\\sankh\\AppData\\Local\\Temp\\ipykernel_20860\\399156438.py:12: UserWarning: Could not infer format, so each element will be parsed individually, falling back to `dateutil`. To ensure parsing is consistent and as-expected, please specify a format.\n",
      "  unseen_dataset[\"arrival_min\"] = pd.to_datetime(unseen_dataset[\"Arrival_Time\"]).dt.minute\n",
      "C:\\Users\\sankh\\AppData\\Local\\Temp\\ipykernel_20860\\399156438.py:43: SettingWithCopyWarning: \n",
      "A value is trying to be set on a copy of a slice from a DataFrame.\n",
      "Try using .loc[row_indexer,col_indexer] = value instead\n",
      "\n",
      "See the caveats in the documentation: https://pandas.pydata.org/pandas-docs/stable/user_guide/indexing.html#returning-a-view-versus-a-copy\n",
      "  Airline['Airline'] = pd.DataFrame(New_Airline_List)\n",
      "C:\\Users\\sankh\\AppData\\Local\\Temp\\ipykernel_20860\\399156438.py:58: SettingWithCopyWarning: \n",
      "A value is trying to be set on a copy of a slice from a DataFrame.\n",
      "Try using .loc[row_indexer,col_indexer] = value instead\n",
      "\n",
      "See the caveats in the documentation: https://pandas.pydata.org/pandas-docs/stable/user_guide/indexing.html#returning-a-view-versus-a-copy\n",
      "  Destination['Destination'] = pd.DataFrame(New_Destination_List)\n"
     ]
    },
    {
     "data": {
      "text/html": [
       "<div>\n",
       "<style scoped>\n",
       "    .dataframe tbody tr th:only-of-type {\n",
       "        vertical-align: middle;\n",
       "    }\n",
       "\n",
       "    .dataframe tbody tr th {\n",
       "        vertical-align: top;\n",
       "    }\n",
       "\n",
       "    .dataframe thead th {\n",
       "        text-align: right;\n",
       "    }\n",
       "</style>\n",
       "<table border=\"1\" class=\"dataframe\">\n",
       "  <thead>\n",
       "    <tr style=\"text-align: right;\">\n",
       "      <th></th>\n",
       "      <th>Total_Stops</th>\n",
       "      <th>Price</th>\n",
       "      <th>journey_day</th>\n",
       "      <th>journey_month</th>\n",
       "      <th>dep_hour</th>\n",
       "      <th>dep_min</th>\n",
       "      <th>arrival_hour</th>\n",
       "      <th>arrival_min</th>\n",
       "      <th>Duration_hours</th>\n",
       "      <th>Duration_mins</th>\n",
       "      <th>Airline_Air India</th>\n",
       "      <th>Airline_GoAir</th>\n",
       "      <th>Airline_IndiGo</th>\n",
       "      <th>Airline_Jet Airways</th>\n",
       "      <th>Airline_Multiple carriers</th>\n",
       "      <th>Airline_Other</th>\n",
       "      <th>Airline_SpiceJet</th>\n",
       "      <th>Airline_Vistara</th>\n",
       "      <th>Source_Chennai</th>\n",
       "      <th>Source_Delhi</th>\n",
       "      <th>Source_Kolkata</th>\n",
       "      <th>Source_Mumbai</th>\n",
       "      <th>Destination_Cochin</th>\n",
       "      <th>Destination_Delhi</th>\n",
       "      <th>Destination_Hyderabad</th>\n",
       "      <th>Destination_Kolkata</th>\n",
       "    </tr>\n",
       "  </thead>\n",
       "  <tbody>\n",
       "    <tr>\n",
       "      <th>0</th>\n",
       "      <td>1</td>\n",
       "      <td>12898</td>\n",
       "      <td>27</td>\n",
       "      <td>5</td>\n",
       "      <td>7</td>\n",
       "      <td>5</td>\n",
       "      <td>19</td>\n",
       "      <td>0</td>\n",
       "      <td>11</td>\n",
       "      <td>55</td>\n",
       "      <td>False</td>\n",
       "      <td>False</td>\n",
       "      <td>False</td>\n",
       "      <td>True</td>\n",
       "      <td>False</td>\n",
       "      <td>False</td>\n",
       "      <td>False</td>\n",
       "      <td>False</td>\n",
       "      <td>False</td>\n",
       "      <td>True</td>\n",
       "      <td>False</td>\n",
       "      <td>False</td>\n",
       "      <td>True</td>\n",
       "      <td>False</td>\n",
       "      <td>False</td>\n",
       "      <td>False</td>\n",
       "    </tr>\n",
       "    <tr>\n",
       "      <th>1</th>\n",
       "      <td>1</td>\n",
       "      <td>10851</td>\n",
       "      <td>6</td>\n",
       "      <td>3</td>\n",
       "      <td>2</td>\n",
       "      <td>5</td>\n",
       "      <td>7</td>\n",
       "      <td>25</td>\n",
       "      <td>5</td>\n",
       "      <td>20</td>\n",
       "      <td>False</td>\n",
       "      <td>False</td>\n",
       "      <td>True</td>\n",
       "      <td>False</td>\n",
       "      <td>False</td>\n",
       "      <td>False</td>\n",
       "      <td>False</td>\n",
       "      <td>False</td>\n",
       "      <td>False</td>\n",
       "      <td>True</td>\n",
       "      <td>False</td>\n",
       "      <td>False</td>\n",
       "      <td>True</td>\n",
       "      <td>False</td>\n",
       "      <td>False</td>\n",
       "      <td>False</td>\n",
       "    </tr>\n",
       "    <tr>\n",
       "      <th>2</th>\n",
       "      <td>1</td>\n",
       "      <td>5704</td>\n",
       "      <td>21</td>\n",
       "      <td>3</td>\n",
       "      <td>9</td>\n",
       "      <td>45</td>\n",
       "      <td>23</td>\n",
       "      <td>0</td>\n",
       "      <td>13</td>\n",
       "      <td>15</td>\n",
       "      <td>True</td>\n",
       "      <td>False</td>\n",
       "      <td>False</td>\n",
       "      <td>False</td>\n",
       "      <td>False</td>\n",
       "      <td>False</td>\n",
       "      <td>False</td>\n",
       "      <td>False</td>\n",
       "      <td>False</td>\n",
       "      <td>True</td>\n",
       "      <td>False</td>\n",
       "      <td>False</td>\n",
       "      <td>True</td>\n",
       "      <td>False</td>\n",
       "      <td>False</td>\n",
       "      <td>False</td>\n",
       "    </tr>\n",
       "    <tr>\n",
       "      <th>3</th>\n",
       "      <td>0</td>\n",
       "      <td>11598</td>\n",
       "      <td>18</td>\n",
       "      <td>3</td>\n",
       "      <td>21</td>\n",
       "      <td>10</td>\n",
       "      <td>0</td>\n",
       "      <td>5</td>\n",
       "      <td>2</td>\n",
       "      <td>55</td>\n",
       "      <td>False</td>\n",
       "      <td>False</td>\n",
       "      <td>False</td>\n",
       "      <td>False</td>\n",
       "      <td>False</td>\n",
       "      <td>False</td>\n",
       "      <td>False</td>\n",
       "      <td>True</td>\n",
       "      <td>False</td>\n",
       "      <td>False</td>\n",
       "      <td>False</td>\n",
       "      <td>False</td>\n",
       "      <td>False</td>\n",
       "      <td>True</td>\n",
       "      <td>False</td>\n",
       "      <td>False</td>\n",
       "    </tr>\n",
       "    <tr>\n",
       "      <th>4</th>\n",
       "      <td>1</td>\n",
       "      <td>9149</td>\n",
       "      <td>27</td>\n",
       "      <td>5</td>\n",
       "      <td>8</td>\n",
       "      <td>30</td>\n",
       "      <td>19</td>\n",
       "      <td>15</td>\n",
       "      <td>10</td>\n",
       "      <td>45</td>\n",
       "      <td>False</td>\n",
       "      <td>False</td>\n",
       "      <td>False</td>\n",
       "      <td>False</td>\n",
       "      <td>True</td>\n",
       "      <td>False</td>\n",
       "      <td>False</td>\n",
       "      <td>False</td>\n",
       "      <td>False</td>\n",
       "      <td>True</td>\n",
       "      <td>False</td>\n",
       "      <td>False</td>\n",
       "      <td>True</td>\n",
       "      <td>False</td>\n",
       "      <td>False</td>\n",
       "      <td>False</td>\n",
       "    </tr>\n",
       "  </tbody>\n",
       "</table>\n",
       "</div>"
      ],
      "text/plain": [
       "   Total_Stops  Price  journey_day  journey_month  dep_hour  dep_min  \\\n",
       "0            1  12898           27              5         7        5   \n",
       "1            1  10851            6              3         2        5   \n",
       "2            1   5704           21              3         9       45   \n",
       "3            0  11598           18              3        21       10   \n",
       "4            1   9149           27              5         8       30   \n",
       "\n",
       "   arrival_hour  arrival_min  Duration_hours  Duration_mins  \\\n",
       "0            19            0              11             55   \n",
       "1             7           25               5             20   \n",
       "2            23            0              13             15   \n",
       "3             0            5               2             55   \n",
       "4            19           15              10             45   \n",
       "\n",
       "   Airline_Air India  Airline_GoAir  Airline_IndiGo  Airline_Jet Airways  \\\n",
       "0              False          False           False                 True   \n",
       "1              False          False            True                False   \n",
       "2               True          False           False                False   \n",
       "3              False          False           False                False   \n",
       "4              False          False           False                False   \n",
       "\n",
       "   Airline_Multiple carriers  Airline_Other  Airline_SpiceJet  \\\n",
       "0                      False          False             False   \n",
       "1                      False          False             False   \n",
       "2                      False          False             False   \n",
       "3                      False          False             False   \n",
       "4                       True          False             False   \n",
       "\n",
       "   Airline_Vistara  Source_Chennai  Source_Delhi  Source_Kolkata  \\\n",
       "0            False           False          True           False   \n",
       "1            False           False          True           False   \n",
       "2            False           False          True           False   \n",
       "3             True           False         False           False   \n",
       "4            False           False          True           False   \n",
       "\n",
       "   Source_Mumbai  Destination_Cochin  Destination_Delhi  \\\n",
       "0          False                True              False   \n",
       "1          False                True              False   \n",
       "2          False                True              False   \n",
       "3          False               False               True   \n",
       "4          False                True              False   \n",
       "\n",
       "   Destination_Hyderabad  Destination_Kolkata  \n",
       "0                  False                False  \n",
       "1                  False                False  \n",
       "2                  False                False  \n",
       "3                  False                False  \n",
       "4                  False                False  "
      ]
     },
     "execution_count": 42,
     "metadata": {},
     "output_type": "execute_result"
    }
   ],
   "source": [
    "# Perform feature engineering on object dt variables\n",
    "# Feature Engineering on: 'Date_of_Journey'\n",
    "unseen_dataset[\"journey_day\"] = pd.to_datetime(unseen_dataset.Date_of_Journey, format=\"%d/%m/%Y\").dt.day\n",
    "unseen_dataset[\"journey_month\"] = pd.to_datetime(unseen_dataset[\"Date_of_Journey\"], format = \"%d/%m/%Y\").dt.month\n",
    "unseen_dataset.drop([\"Date_of_Journey\"], axis = 1, inplace = True)\n",
    "# Feature Engineering on: 'Dep_Time'\n",
    "unseen_dataset[\"dep_hour\"] = pd.to_datetime(unseen_dataset[\"Dep_Time\"]).dt.hour\n",
    "unseen_dataset[\"dep_min\"] = pd.to_datetime(unseen_dataset[\"Dep_Time\"]).dt.minute\n",
    "unseen_dataset.drop([\"Dep_Time\"], axis = 1, inplace = True)\n",
    "# Feature Engineering on: 'Arrival_Time'\n",
    "unseen_dataset[\"arrival_hour\"] = pd.to_datetime(unseen_dataset[\"Arrival_Time\"]).dt.hour\n",
    "unseen_dataset[\"arrival_min\"] = pd.to_datetime(unseen_dataset[\"Arrival_Time\"]).dt.minute\n",
    "unseen_dataset.drop([\"Arrival_Time\"], axis = 1, inplace = True)\n",
    "# Feature Engineering on: 'Duration'\n",
    "duration = list(unseen_dataset[\"Duration\"])\n",
    "for i in range(len(duration)):\n",
    "    if len(duration[i].split()) != 2:    # Check if duration contains only hour or mins\n",
    "        if \"h\" in duration[i]:\n",
    "            duration[i] = duration[i].strip() + \" 0m\"   # Adds 0 minute\n",
    "        else:\n",
    "            duration[i] = \"0h \" + duration[i]           # Adds 0 hour\n",
    "duration_hours = []\n",
    "duration_mins = []\n",
    "for i in range(len(duration)):\n",
    "    duration_hours.append(int(duration[i].split(sep = \"h\")[0]))    # Extract hours from duration\n",
    "    duration_mins.append(int(duration[i].split(sep = \"m\")[0].split()[-1]))   # Extracts only minutes from duration\n",
    "unseen_dataset[\"Duration_hours\"] = duration_hours\n",
    "unseen_dataset[\"Duration_mins\"] = duration_mins\n",
    "unseen_dataset.drop([\"Duration\"], axis = 1, inplace = True)\n",
    "\n",
    "\n",
    "# Perform feature engineering on Categorical dt variables\n",
    "# Feature Engineering on: 'Airline'\n",
    "Airline = unseen_dataset[[\"Airline\"]]\n",
    "New_Airline_List = []\n",
    "Current_Airline_List = Airline['Airline']\n",
    "for carrier in Current_Airline_List:\n",
    "  if carrier in ['IndiGo', 'Air India', 'Jet Airways', 'SpiceJet',\n",
    "       'Multiple carriers', 'GoAir', 'Vistara', 'Air Asia']:\n",
    "    New_Airline_List.append(carrier)\n",
    "  else:\n",
    "    New_Airline_List.append('Other')\n",
    "Airline['Airline'] = pd.DataFrame(New_Airline_List)\n",
    "Airline = pd.get_dummies(Airline, drop_first= True)\n",
    "# Feature Engineering on: 'Source'\n",
    "Source = unseen_dataset[[\"Source\"]]\n",
    "Source = pd.get_dummies(Source, drop_first= True)\n",
    "Source.head()\n",
    "# Feature Engineering on: 'Destination'\n",
    "Destination = unseen_dataset[[\"Destination\"]]\n",
    "Current_Destination_List = Destination['Destination']\n",
    "New_Destination_List = []\n",
    "for value in Current_Destination_List:\n",
    "  if value in ['New Delhi']:\n",
    "    New_Destination_List.append('Delhi')\n",
    "  else:\n",
    "    New_Destination_List.append(value)\n",
    "Destination['Destination'] = pd.DataFrame(New_Destination_List)\n",
    "Destination['Destination'].value_counts()\n",
    "Destination = pd.get_dummies(Destination, drop_first = True)\n",
    "Destination.head()\n",
    "\n",
    "# Feature Engineering on: 'Route', 'Additional_Info\n",
    "unseen_dataset.drop([\"Route\", \"Additional_Info\"], axis = 1, inplace = True)\n",
    "\n",
    "# Feature Engineering on: 'Total_Stops'\n",
    "unseen_dataset.replace({\"non-stop\": 0, \"1 stop\": 1, \"2 stops\": 2, \"3 stops\": 3, \"4 stops\": 4}, inplace = True)\n",
    "\n",
    "# Concatenate dataframe --> train_data + Airline + Source + Destination\n",
    "data_test = pd.concat([unseen_dataset, Airline, Source, Destination], axis = 1)\n",
    "data_test.drop([\"Airline\", \"Source\", \"Destination\"], axis = 1, inplace = True)\n",
    "\n",
    "# See how the test dataset looks\n",
    "data_test.head()"
   ]
  },
  {
   "cell_type": "code",
   "execution_count": 43,
   "metadata": {
    "id": "RMyw5gG_uY8n"
   },
   "outputs": [],
   "source": [
    "# Drop 'Source_Delhi'\n",
    "X_unseen = data_test.loc[:, ['Total_Stops', 'journey_day', 'journey_month', 'dep_hour',\n",
    "       'dep_min', 'arrival_hour', 'arrival_min', 'Duration_hours',\n",
    "       'Duration_mins', 'Airline_Air India', 'Airline_GoAir', 'Airline_IndiGo',\n",
    "       'Airline_Jet Airways', 'Airline_Multiple carriers', 'Airline_Other',\n",
    "       'Airline_SpiceJet', 'Airline_Vistara', 'Source_Chennai',\n",
    "       'Source_Kolkata', 'Source_Mumbai', 'Destination_Cochin',\n",
    "       'Destination_Delhi', 'Destination_Hyderabad', 'Destination_Kolkata']]\n",
    "y_unseen = data_test.iloc[:, 1]"
   ]
  },
  {
   "cell_type": "code",
   "execution_count": 44,
   "metadata": {
    "id": "Jkq9q2s_yGMG"
   },
   "outputs": [],
   "source": [
    "# Predictions on unseen data\n",
    "y_pred = rf_model.predict(X_unseen)"
   ]
  },
  {
   "cell_type": "code",
   "execution_count": 45,
   "metadata": {
    "colab": {
     "base_uri": "https://localhost:8080/"
    },
    "executionInfo": {
     "elapsed": 7,
     "status": "ok",
     "timestamp": 1661673751847,
     "user": {
      "displayName": "Skillcate AI",
      "userId": "11062674699417926870"
     },
     "user_tz": -330
    },
    "id": "2S64OqbzF1Dt",
    "outputId": "89b22606-258e-41f0-c6f2-22f57be7fc58"
   },
   "outputs": [
    {
     "name": "stdout",
     "output_type": "stream",
     "text": [
      "Normalized RMSE:  0.05\n",
      "Max Value:  57209 \n",
      "Min Value:  1759\n",
      "R2 value:  0.68\n"
     ]
    }
   ],
   "source": [
    "print('Normalized RMSE: ', round(np.sqrt(metrics.mean_squared_error(y_unseen, y_pred))/(max(y_unseen)-min(y_unseen)),2))\n",
    "print('Max Value: ', max(y_unseen), '\\nMin Value: ', min(y_unseen))\n",
    "print('R2 value: ', round(metrics.r2_score(y_unseen, y_pred),2))"
   ]
  },
  {
   "cell_type": "code",
   "execution_count": 46,
   "metadata": {
    "colab": {
     "base_uri": "https://localhost:8080/"
    },
    "executionInfo": {
     "elapsed": 2112,
     "status": "ok",
     "timestamp": 1661673753952,
     "user": {
      "displayName": "Skillcate AI",
      "userId": "11062674699417926870"
     },
     "user_tz": -330
    },
    "id": "6I3M-2O-yW3h",
    "outputId": "ae90df97-887c-41fb-f0a6-d51b63270573"
   },
   "outputs": [
    {
     "data": {
      "text/html": [
       "<div>\n",
       "<style scoped>\n",
       "    .dataframe tbody tr th:only-of-type {\n",
       "        vertical-align: middle;\n",
       "    }\n",
       "\n",
       "    .dataframe tbody tr th {\n",
       "        vertical-align: top;\n",
       "    }\n",
       "\n",
       "    .dataframe thead th {\n",
       "        text-align: right;\n",
       "    }\n",
       "</style>\n",
       "<table border=\"1\" class=\"dataframe\">\n",
       "  <thead>\n",
       "    <tr style=\"text-align: right;\">\n",
       "      <th></th>\n",
       "      <th>Airline</th>\n",
       "      <th>Date_of_Journey</th>\n",
       "      <th>Source</th>\n",
       "      <th>Destination</th>\n",
       "      <th>Route</th>\n",
       "      <th>Dep_Time</th>\n",
       "      <th>Arrival_Time</th>\n",
       "      <th>Duration</th>\n",
       "      <th>Total_Stops</th>\n",
       "      <th>Additional_Info</th>\n",
       "      <th>Price</th>\n",
       "      <th>Predicted Price</th>\n",
       "    </tr>\n",
       "  </thead>\n",
       "  <tbody>\n",
       "    <tr>\n",
       "      <th>0</th>\n",
       "      <td>Jet Airways</td>\n",
       "      <td>27/05/2019</td>\n",
       "      <td>Delhi</td>\n",
       "      <td>Cochin</td>\n",
       "      <td>DEL → BOM → COK</td>\n",
       "      <td>07:05</td>\n",
       "      <td>19:00</td>\n",
       "      <td>11h 55m</td>\n",
       "      <td>1 stop</td>\n",
       "      <td>In-flight meal not included</td>\n",
       "      <td>12898</td>\n",
       "      <td>15341.420167</td>\n",
       "    </tr>\n",
       "    <tr>\n",
       "      <th>1</th>\n",
       "      <td>IndiGo</td>\n",
       "      <td>6/03/2019</td>\n",
       "      <td>Delhi</td>\n",
       "      <td>Cochin</td>\n",
       "      <td>DEL → MAA → COK</td>\n",
       "      <td>02:05</td>\n",
       "      <td>07:25</td>\n",
       "      <td>5h 20m</td>\n",
       "      <td>1 stop</td>\n",
       "      <td>No info</td>\n",
       "      <td>10851</td>\n",
       "      <td>10358.560000</td>\n",
       "    </tr>\n",
       "    <tr>\n",
       "      <th>2</th>\n",
       "      <td>Air India</td>\n",
       "      <td>21/03/2019</td>\n",
       "      <td>Delhi</td>\n",
       "      <td>Cochin</td>\n",
       "      <td>DEL → BLR → COK</td>\n",
       "      <td>09:45</td>\n",
       "      <td>23:00</td>\n",
       "      <td>13h 15m</td>\n",
       "      <td>1 stop</td>\n",
       "      <td>No info</td>\n",
       "      <td>5704</td>\n",
       "      <td>6240.590000</td>\n",
       "    </tr>\n",
       "    <tr>\n",
       "      <th>3</th>\n",
       "      <td>Vistara</td>\n",
       "      <td>18/03/2019</td>\n",
       "      <td>Banglore</td>\n",
       "      <td>New Delhi</td>\n",
       "      <td>BLR → DEL</td>\n",
       "      <td>21:10</td>\n",
       "      <td>00:05 16 Mar</td>\n",
       "      <td>2h 55m</td>\n",
       "      <td>non-stop</td>\n",
       "      <td>No info</td>\n",
       "      <td>11598</td>\n",
       "      <td>6155.672500</td>\n",
       "    </tr>\n",
       "    <tr>\n",
       "      <th>4</th>\n",
       "      <td>Multiple carriers</td>\n",
       "      <td>27/05/2019</td>\n",
       "      <td>Delhi</td>\n",
       "      <td>Cochin</td>\n",
       "      <td>DEL → BOM → COK</td>\n",
       "      <td>08:30</td>\n",
       "      <td>19:15</td>\n",
       "      <td>10h 45m</td>\n",
       "      <td>1 stop</td>\n",
       "      <td>No info</td>\n",
       "      <td>9149</td>\n",
       "      <td>9341.082000</td>\n",
       "    </tr>\n",
       "  </tbody>\n",
       "</table>\n",
       "</div>"
      ],
      "text/plain": [
       "             Airline Date_of_Journey    Source Destination            Route  \\\n",
       "0        Jet Airways      27/05/2019     Delhi      Cochin  DEL → BOM → COK   \n",
       "1             IndiGo       6/03/2019     Delhi      Cochin  DEL → MAA → COK   \n",
       "2          Air India      21/03/2019     Delhi      Cochin  DEL → BLR → COK   \n",
       "3            Vistara      18/03/2019  Banglore   New Delhi        BLR → DEL   \n",
       "4  Multiple carriers      27/05/2019     Delhi      Cochin  DEL → BOM → COK   \n",
       "\n",
       "  Dep_Time  Arrival_Time Duration Total_Stops              Additional_Info  \\\n",
       "0    07:05         19:00  11h 55m      1 stop  In-flight meal not included   \n",
       "1    02:05         07:25   5h 20m      1 stop                      No info   \n",
       "2    09:45         23:00  13h 15m      1 stop                      No info   \n",
       "3    21:10  00:05 16 Mar   2h 55m    non-stop                      No info   \n",
       "4    08:30         19:15  10h 45m      1 stop                      No info   \n",
       "\n",
       "   Price  Predicted Price  \n",
       "0  12898     15341.420167  \n",
       "1  10851     10358.560000  \n",
       "2   5704      6240.590000  \n",
       "3  11598      6155.672500  \n",
       "4   9149      9341.082000  "
      ]
     },
     "execution_count": 46,
     "metadata": {},
     "output_type": "execute_result"
    }
   ],
   "source": [
    "# writing model output file\n",
    "df_y_pred = pd.DataFrame(y_pred,columns= ['Predicted Price'])\n",
    "original_dataset = pd.read_csv(r'C:\\Users\\sankh\\Desktop\\project\\unseendata.csv')\n",
    "dfx = pd.concat([original_dataset, df_y_pred], axis=1)\n",
    "dfx.to_csv('ModelOutput.csv')\n",
    "dfx.head()"
   ]
  },
  {
   "cell_type": "code",
   "execution_count": 47,
   "metadata": {
    "id": "EhHmVC9jS1Fm"
   },
   "outputs": [],
   "source": [
    "from sklearn.model_selection import RandomizedSearchCV"
   ]
  },
  {
   "cell_type": "code",
   "execution_count": 48,
   "metadata": {
    "id": "4foe6EnrS1Fm"
   },
   "outputs": [],
   "source": [
    "#Randomized Search CV\n",
    "# Number of trees in random forest\n",
    "n_estimators = [int(x) for x in np.linspace(start = 100, stop = 1200, num = 12)]\n",
    "# Number of features to consider at every split\n",
    "max_features = ['auto', 'sqrt']\n",
    "# Maximum number of levels in tree\n",
    "max_depth = [int(x) for x in np.linspace(5, 30, num = 6)]\n",
    "# Minimum number of samples required to split a node\n",
    "min_samples_split = [2, 5, 10, 15, 100]\n",
    "# Minimum number of samples required at each leaf node\n",
    "min_samples_leaf = [1, 2, 5, 10]"
   ]
  },
  {
   "cell_type": "code",
   "execution_count": 49,
   "metadata": {
    "id": "8P1i--5yS1Fm"
   },
   "outputs": [],
   "source": [
    "# Create the random grid\n",
    "random_grid = {'n_estimators': n_estimators,\n",
    "               'max_features': max_features,\n",
    "               'max_depth': max_depth,\n",
    "               'min_samples_split': min_samples_split,\n",
    "               'min_samples_leaf': min_samples_leaf}"
   ]
  },
  {
   "cell_type": "code",
   "execution_count": 50,
   "metadata": {
    "id": "8sfhJeXpS1Fm"
   },
   "outputs": [],
   "source": [
    "# Random search of parameters, using 5 fold cross validation, \n",
    "# search across 100 different combinations\n",
    "rf_random = RandomizedSearchCV(estimator = rf_reg, param_distributions = random_grid,\n",
    "                               scoring='neg_mean_squared_error', n_iter = 10, cv = 5, \n",
    "                               verbose=2, random_state=42, n_jobs = 1)"
   ]
  },
  {
   "cell_type": "code",
   "execution_count": 51,
   "metadata": {
    "id": "I6o4FoG2S1Fm"
   },
   "outputs": [
    {
     "name": "stdout",
     "output_type": "stream",
     "text": [
      "Fitting 5 folds for each of 10 candidates, totalling 50 fits\n",
      "[CV] END max_depth=10, max_features=sqrt, min_samples_leaf=5, min_samples_split=5, n_estimators=900; total time=   7.6s\n",
      "[CV] END max_depth=10, max_features=sqrt, min_samples_leaf=5, min_samples_split=5, n_estimators=900; total time=   7.8s\n",
      "[CV] END max_depth=10, max_features=sqrt, min_samples_leaf=5, min_samples_split=5, n_estimators=900; total time=   7.8s\n",
      "[CV] END max_depth=10, max_features=sqrt, min_samples_leaf=5, min_samples_split=5, n_estimators=900; total time=   7.8s\n",
      "[CV] END max_depth=10, max_features=sqrt, min_samples_leaf=5, min_samples_split=5, n_estimators=900; total time=   7.7s\n",
      "[CV] END max_depth=15, max_features=sqrt, min_samples_leaf=2, min_samples_split=10, n_estimators=1100; total time=  14.7s\n",
      "[CV] END max_depth=15, max_features=sqrt, min_samples_leaf=2, min_samples_split=10, n_estimators=1100; total time=  14.4s\n",
      "[CV] END max_depth=15, max_features=sqrt, min_samples_leaf=2, min_samples_split=10, n_estimators=1100; total time=  13.9s\n",
      "[CV] END max_depth=15, max_features=sqrt, min_samples_leaf=2, min_samples_split=10, n_estimators=1100; total time=  14.6s\n",
      "[CV] END max_depth=15, max_features=sqrt, min_samples_leaf=2, min_samples_split=10, n_estimators=1100; total time=  14.3s\n",
      "[CV] END max_depth=15, max_features=auto, min_samples_leaf=5, min_samples_split=100, n_estimators=300; total time=   0.0s\n",
      "[CV] END max_depth=15, max_features=auto, min_samples_leaf=5, min_samples_split=100, n_estimators=300; total time=   0.0s\n",
      "[CV] END max_depth=15, max_features=auto, min_samples_leaf=5, min_samples_split=100, n_estimators=300; total time=   0.0s\n",
      "[CV] END max_depth=15, max_features=auto, min_samples_leaf=5, min_samples_split=100, n_estimators=300; total time=   0.0s\n",
      "[CV] END max_depth=15, max_features=auto, min_samples_leaf=5, min_samples_split=100, n_estimators=300; total time=   0.0s\n",
      "[CV] END max_depth=15, max_features=auto, min_samples_leaf=5, min_samples_split=5, n_estimators=400; total time=   0.0s\n",
      "[CV] END max_depth=15, max_features=auto, min_samples_leaf=5, min_samples_split=5, n_estimators=400; total time=   0.0s\n",
      "[CV] END max_depth=15, max_features=auto, min_samples_leaf=5, min_samples_split=5, n_estimators=400; total time=   0.0s\n",
      "[CV] END max_depth=15, max_features=auto, min_samples_leaf=5, min_samples_split=5, n_estimators=400; total time=   0.0s\n",
      "[CV] END max_depth=15, max_features=auto, min_samples_leaf=5, min_samples_split=5, n_estimators=400; total time=   0.0s\n",
      "[CV] END max_depth=20, max_features=auto, min_samples_leaf=10, min_samples_split=5, n_estimators=700; total time=   0.0s\n",
      "[CV] END max_depth=20, max_features=auto, min_samples_leaf=10, min_samples_split=5, n_estimators=700; total time=   0.0s\n",
      "[CV] END max_depth=20, max_features=auto, min_samples_leaf=10, min_samples_split=5, n_estimators=700; total time=   0.0s\n",
      "[CV] END max_depth=20, max_features=auto, min_samples_leaf=10, min_samples_split=5, n_estimators=700; total time=   0.0s\n",
      "[CV] END max_depth=20, max_features=auto, min_samples_leaf=10, min_samples_split=5, n_estimators=700; total time=   0.0s\n",
      "[CV] END max_depth=25, max_features=sqrt, min_samples_leaf=1, min_samples_split=2, n_estimators=1000; total time=  34.7s\n",
      "[CV] END max_depth=25, max_features=sqrt, min_samples_leaf=1, min_samples_split=2, n_estimators=1000; total time=  34.9s\n",
      "[CV] END max_depth=25, max_features=sqrt, min_samples_leaf=1, min_samples_split=2, n_estimators=1000; total time=  34.6s\n",
      "[CV] END max_depth=25, max_features=sqrt, min_samples_leaf=1, min_samples_split=2, n_estimators=1000; total time=  34.9s\n",
      "[CV] END max_depth=25, max_features=sqrt, min_samples_leaf=1, min_samples_split=2, n_estimators=1000; total time=  34.8s\n",
      "[CV] END max_depth=5, max_features=sqrt, min_samples_leaf=10, min_samples_split=15, n_estimators=1100; total time=   5.0s\n",
      "[CV] END max_depth=5, max_features=sqrt, min_samples_leaf=10, min_samples_split=15, n_estimators=1100; total time=   5.2s\n",
      "[CV] END max_depth=5, max_features=sqrt, min_samples_leaf=10, min_samples_split=15, n_estimators=1100; total time=   5.1s\n",
      "[CV] END max_depth=5, max_features=sqrt, min_samples_leaf=10, min_samples_split=15, n_estimators=1100; total time=   5.4s\n",
      "[CV] END max_depth=5, max_features=sqrt, min_samples_leaf=10, min_samples_split=15, n_estimators=1100; total time=   5.2s\n",
      "[CV] END max_depth=15, max_features=sqrt, min_samples_leaf=1, min_samples_split=15, n_estimators=300; total time=   3.7s\n",
      "[CV] END max_depth=15, max_features=sqrt, min_samples_leaf=1, min_samples_split=15, n_estimators=300; total time=   3.6s\n",
      "[CV] END max_depth=15, max_features=sqrt, min_samples_leaf=1, min_samples_split=15, n_estimators=300; total time=   3.7s\n",
      "[CV] END max_depth=15, max_features=sqrt, min_samples_leaf=1, min_samples_split=15, n_estimators=300; total time=   3.7s\n",
      "[CV] END max_depth=15, max_features=sqrt, min_samples_leaf=1, min_samples_split=15, n_estimators=300; total time=   3.7s\n",
      "[CV] END max_depth=5, max_features=sqrt, min_samples_leaf=2, min_samples_split=10, n_estimators=700; total time=   3.2s\n",
      "[CV] END max_depth=5, max_features=sqrt, min_samples_leaf=2, min_samples_split=10, n_estimators=700; total time=   3.2s\n",
      "[CV] END max_depth=5, max_features=sqrt, min_samples_leaf=2, min_samples_split=10, n_estimators=700; total time=   3.2s\n",
      "[CV] END max_depth=5, max_features=sqrt, min_samples_leaf=2, min_samples_split=10, n_estimators=700; total time=   3.2s\n",
      "[CV] END max_depth=5, max_features=sqrt, min_samples_leaf=2, min_samples_split=10, n_estimators=700; total time=   3.2s\n",
      "[CV] END max_depth=20, max_features=auto, min_samples_leaf=1, min_samples_split=15, n_estimators=700; total time=   0.0s\n",
      "[CV] END max_depth=20, max_features=auto, min_samples_leaf=1, min_samples_split=15, n_estimators=700; total time=   0.0s\n",
      "[CV] END max_depth=20, max_features=auto, min_samples_leaf=1, min_samples_split=15, n_estimators=700; total time=   0.0s\n",
      "[CV] END max_depth=20, max_features=auto, min_samples_leaf=1, min_samples_split=15, n_estimators=700; total time=   0.0s\n",
      "[CV] END max_depth=20, max_features=auto, min_samples_leaf=1, min_samples_split=15, n_estimators=700; total time=   0.0s\n"
     ]
    },
    {
     "name": "stderr",
     "output_type": "stream",
     "text": [
      "c:\\users\\sankh\\appdata\\local\\programs\\python\\python39\\lib\\site-packages\\sklearn\\model_selection\\_validation.py:425: FitFailedWarning: \n",
      "20 fits failed out of a total of 50.\n",
      "The score on these train-test partitions for these parameters will be set to nan.\n",
      "If these failures are not expected, you can try to debug them by setting error_score='raise'.\n",
      "\n",
      "Below are more details about the failures:\n",
      "--------------------------------------------------------------------------------\n",
      "20 fits failed with the following error:\n",
      "Traceback (most recent call last):\n",
      "  File \"c:\\users\\sankh\\appdata\\local\\programs\\python\\python39\\lib\\site-packages\\sklearn\\model_selection\\_validation.py\", line 732, in _fit_and_score\n",
      "    estimator.fit(X_train, y_train, **fit_params)\n",
      "  File \"c:\\users\\sankh\\appdata\\local\\programs\\python\\python39\\lib\\site-packages\\sklearn\\base.py\", line 1144, in wrapper\n",
      "    estimator._validate_params()\n",
      "  File \"c:\\users\\sankh\\appdata\\local\\programs\\python\\python39\\lib\\site-packages\\sklearn\\base.py\", line 637, in _validate_params\n",
      "    validate_parameter_constraints(\n",
      "  File \"c:\\users\\sankh\\appdata\\local\\programs\\python\\python39\\lib\\site-packages\\sklearn\\utils\\_param_validation.py\", line 95, in validate_parameter_constraints\n",
      "    raise InvalidParameterError(\n",
      "sklearn.utils._param_validation.InvalidParameterError: The 'max_features' parameter of RandomForestRegressor must be an int in the range [1, inf), a float in the range (0.0, 1.0], a str among {'log2', 'sqrt'} or None. Got 'auto' instead.\n",
      "\n",
      "  warnings.warn(some_fits_failed_message, FitFailedWarning)\n",
      "c:\\users\\sankh\\appdata\\local\\programs\\python\\python39\\lib\\site-packages\\sklearn\\model_selection\\_search.py:976: UserWarning: One or more of the test scores are non-finite: [-6970757.31145886 -5812874.52827479               nan               nan\n",
      "               nan -5266877.70628328 -9608510.09819773 -5660767.00135313\n",
      " -9449878.24322947               nan]\n",
      "  warnings.warn(\n"
     ]
    },
    {
     "data": {
      "text/html": [
       "<style>#sk-container-id-3 {color: black;}#sk-container-id-3 pre{padding: 0;}#sk-container-id-3 div.sk-toggleable {background-color: white;}#sk-container-id-3 label.sk-toggleable__label {cursor: pointer;display: block;width: 100%;margin-bottom: 0;padding: 0.3em;box-sizing: border-box;text-align: center;}#sk-container-id-3 label.sk-toggleable__label-arrow:before {content: \"▸\";float: left;margin-right: 0.25em;color: #696969;}#sk-container-id-3 label.sk-toggleable__label-arrow:hover:before {color: black;}#sk-container-id-3 div.sk-estimator:hover label.sk-toggleable__label-arrow:before {color: black;}#sk-container-id-3 div.sk-toggleable__content {max-height: 0;max-width: 0;overflow: hidden;text-align: left;background-color: #f0f8ff;}#sk-container-id-3 div.sk-toggleable__content pre {margin: 0.2em;color: black;border-radius: 0.25em;background-color: #f0f8ff;}#sk-container-id-3 input.sk-toggleable__control:checked~div.sk-toggleable__content {max-height: 200px;max-width: 100%;overflow: auto;}#sk-container-id-3 input.sk-toggleable__control:checked~label.sk-toggleable__label-arrow:before {content: \"▾\";}#sk-container-id-3 div.sk-estimator input.sk-toggleable__control:checked~label.sk-toggleable__label {background-color: #d4ebff;}#sk-container-id-3 div.sk-label input.sk-toggleable__control:checked~label.sk-toggleable__label {background-color: #d4ebff;}#sk-container-id-3 input.sk-hidden--visually {border: 0;clip: rect(1px 1px 1px 1px);clip: rect(1px, 1px, 1px, 1px);height: 1px;margin: -1px;overflow: hidden;padding: 0;position: absolute;width: 1px;}#sk-container-id-3 div.sk-estimator {font-family: monospace;background-color: #f0f8ff;border: 1px dotted black;border-radius: 0.25em;box-sizing: border-box;margin-bottom: 0.5em;}#sk-container-id-3 div.sk-estimator:hover {background-color: #d4ebff;}#sk-container-id-3 div.sk-parallel-item::after {content: \"\";width: 100%;border-bottom: 1px solid gray;flex-grow: 1;}#sk-container-id-3 div.sk-label:hover label.sk-toggleable__label {background-color: #d4ebff;}#sk-container-id-3 div.sk-serial::before {content: \"\";position: absolute;border-left: 1px solid gray;box-sizing: border-box;top: 0;bottom: 0;left: 50%;z-index: 0;}#sk-container-id-3 div.sk-serial {display: flex;flex-direction: column;align-items: center;background-color: white;padding-right: 0.2em;padding-left: 0.2em;position: relative;}#sk-container-id-3 div.sk-item {position: relative;z-index: 1;}#sk-container-id-3 div.sk-parallel {display: flex;align-items: stretch;justify-content: center;background-color: white;position: relative;}#sk-container-id-3 div.sk-item::before, #sk-container-id-3 div.sk-parallel-item::before {content: \"\";position: absolute;border-left: 1px solid gray;box-sizing: border-box;top: 0;bottom: 0;left: 50%;z-index: -1;}#sk-container-id-3 div.sk-parallel-item {display: flex;flex-direction: column;z-index: 1;position: relative;background-color: white;}#sk-container-id-3 div.sk-parallel-item:first-child::after {align-self: flex-end;width: 50%;}#sk-container-id-3 div.sk-parallel-item:last-child::after {align-self: flex-start;width: 50%;}#sk-container-id-3 div.sk-parallel-item:only-child::after {width: 0;}#sk-container-id-3 div.sk-dashed-wrapped {border: 1px dashed gray;margin: 0 0.4em 0.5em 0.4em;box-sizing: border-box;padding-bottom: 0.4em;background-color: white;}#sk-container-id-3 div.sk-label label {font-family: monospace;font-weight: bold;display: inline-block;line-height: 1.2em;}#sk-container-id-3 div.sk-label-container {text-align: center;}#sk-container-id-3 div.sk-container {/* jupyter's `normalize.less` sets `[hidden] { display: none; }` but bootstrap.min.css set `[hidden] { display: none !important; }` so we also need the `!important` here to be able to override the default hidden behavior on the sphinx rendered scikit-learn.org. See: https://github.com/scikit-learn/scikit-learn/issues/21755 */display: inline-block !important;position: relative;}#sk-container-id-3 div.sk-text-repr-fallback {display: none;}</style><div id=\"sk-container-id-3\" class=\"sk-top-container\"><div class=\"sk-text-repr-fallback\"><pre>RandomizedSearchCV(cv=5, estimator=RandomForestRegressor(), n_jobs=1,\n",
       "                   param_distributions={&#x27;max_depth&#x27;: [5, 10, 15, 20, 25, 30],\n",
       "                                        &#x27;max_features&#x27;: [&#x27;auto&#x27;, &#x27;sqrt&#x27;],\n",
       "                                        &#x27;min_samples_leaf&#x27;: [1, 2, 5, 10],\n",
       "                                        &#x27;min_samples_split&#x27;: [2, 5, 10, 15,\n",
       "                                                              100],\n",
       "                                        &#x27;n_estimators&#x27;: [100, 200, 300, 400,\n",
       "                                                         500, 600, 700, 800,\n",
       "                                                         900, 1000, 1100,\n",
       "                                                         1200]},\n",
       "                   random_state=42, scoring=&#x27;neg_mean_squared_error&#x27;,\n",
       "                   verbose=2)</pre><b>In a Jupyter environment, please rerun this cell to show the HTML representation or trust the notebook. <br />On GitHub, the HTML representation is unable to render, please try loading this page with nbviewer.org.</b></div><div class=\"sk-container\" hidden><div class=\"sk-item sk-dashed-wrapped\"><div class=\"sk-label-container\"><div class=\"sk-label sk-toggleable\"><input class=\"sk-toggleable__control sk-hidden--visually\" id=\"sk-estimator-id-3\" type=\"checkbox\" ><label for=\"sk-estimator-id-3\" class=\"sk-toggleable__label sk-toggleable__label-arrow\">RandomizedSearchCV</label><div class=\"sk-toggleable__content\"><pre>RandomizedSearchCV(cv=5, estimator=RandomForestRegressor(), n_jobs=1,\n",
       "                   param_distributions={&#x27;max_depth&#x27;: [5, 10, 15, 20, 25, 30],\n",
       "                                        &#x27;max_features&#x27;: [&#x27;auto&#x27;, &#x27;sqrt&#x27;],\n",
       "                                        &#x27;min_samples_leaf&#x27;: [1, 2, 5, 10],\n",
       "                                        &#x27;min_samples_split&#x27;: [2, 5, 10, 15,\n",
       "                                                              100],\n",
       "                                        &#x27;n_estimators&#x27;: [100, 200, 300, 400,\n",
       "                                                         500, 600, 700, 800,\n",
       "                                                         900, 1000, 1100,\n",
       "                                                         1200]},\n",
       "                   random_state=42, scoring=&#x27;neg_mean_squared_error&#x27;,\n",
       "                   verbose=2)</pre></div></div></div><div class=\"sk-parallel\"><div class=\"sk-parallel-item\"><div class=\"sk-item\"><div class=\"sk-label-container\"><div class=\"sk-label sk-toggleable\"><input class=\"sk-toggleable__control sk-hidden--visually\" id=\"sk-estimator-id-4\" type=\"checkbox\" ><label for=\"sk-estimator-id-4\" class=\"sk-toggleable__label sk-toggleable__label-arrow\">estimator: RandomForestRegressor</label><div class=\"sk-toggleable__content\"><pre>RandomForestRegressor()</pre></div></div></div><div class=\"sk-serial\"><div class=\"sk-item\"><div class=\"sk-estimator sk-toggleable\"><input class=\"sk-toggleable__control sk-hidden--visually\" id=\"sk-estimator-id-5\" type=\"checkbox\" ><label for=\"sk-estimator-id-5\" class=\"sk-toggleable__label sk-toggleable__label-arrow\">RandomForestRegressor</label><div class=\"sk-toggleable__content\"><pre>RandomForestRegressor()</pre></div></div></div></div></div></div></div></div></div></div>"
      ],
      "text/plain": [
       "RandomizedSearchCV(cv=5, estimator=RandomForestRegressor(), n_jobs=1,\n",
       "                   param_distributions={'max_depth': [5, 10, 15, 20, 25, 30],\n",
       "                                        'max_features': ['auto', 'sqrt'],\n",
       "                                        'min_samples_leaf': [1, 2, 5, 10],\n",
       "                                        'min_samples_split': [2, 5, 10, 15,\n",
       "                                                              100],\n",
       "                                        'n_estimators': [100, 200, 300, 400,\n",
       "                                                         500, 600, 700, 800,\n",
       "                                                         900, 1000, 1100,\n",
       "                                                         1200]},\n",
       "                   random_state=42, scoring='neg_mean_squared_error',\n",
       "                   verbose=2)"
      ]
     },
     "execution_count": 51,
     "metadata": {},
     "output_type": "execute_result"
    }
   ],
   "source": [
    "# Model Training with Hyperparameter Tuning\n",
    "rf_random.fit(X_train,y_train)"
   ]
  },
  {
   "cell_type": "code",
   "execution_count": 52,
   "metadata": {
    "id": "OSbT_HsLS1Fm"
   },
   "outputs": [
    {
     "data": {
      "text/plain": [
       "{'n_estimators': 1000,\n",
       " 'min_samples_split': 2,\n",
       " 'min_samples_leaf': 1,\n",
       " 'max_features': 'sqrt',\n",
       " 'max_depth': 25}"
      ]
     },
     "execution_count": 52,
     "metadata": {},
     "output_type": "execute_result"
    }
   ],
   "source": [
    "rf_random.best_params_"
   ]
  },
  {
   "cell_type": "code",
   "execution_count": 53,
   "metadata": {
    "id": "rOsDYms0QrBY"
   },
   "outputs": [
    {
     "data": {
      "image/png": "[encoded data removed]",
      "text/plain": [
       "<Figure size 600x600 with 1 Axes>"
      ]
     },
     "metadata": {},
     "output_type": "display_data"
    }
   ],
   "source": [
    "# Plot Performance Chart\n",
    "prediction = rf_random.predict(X_test)\n",
    "plt.figure(figsize = (6,6))\n",
    "plt.scatter(y_test, prediction, alpha = 0.5)\n",
    "plt.xlabel(\"y_test\")\n",
    "plt.ylabel(\"y_pred\")\n",
    "plt.show()"
   ]
  },
  {
   "cell_type": "code",
   "execution_count": 54,
   "metadata": {
    "id": "hxl579dsQtZt"
   },
   "outputs": [
    {
     "name": "stdout",
     "output_type": "stream",
     "text": [
      "R2 value:  0.76\n",
      "RMSE:  2287.39\n",
      "Normalized RMSE:  0.04\n",
      "Max Value:  57209.0 \n",
      "Min Value:  1965.0\n"
     ]
    }
   ],
   "source": [
    "# RMSE/(max(DV)-min(DV))\n",
    "print('R2 value: ', round(metrics.r2_score(y_test, prediction),2))\n",
    "print('RMSE: ', round(np.sqrt(metrics.mean_squared_error(y_test, prediction)),2))\n",
    "print('Normalized RMSE: ', round(np.sqrt(metrics.mean_squared_error(y_test, prediction))/(max(y_test)-min(y_test)),2))\n",
    "print('Max Value: ', max(y_test), '\\nMin Value: ', min(y_test))"
   ]
  },
  {
   "cell_type": "code",
   "execution_count": null,
   "metadata": {},
   "outputs": [],
   "source": []
  },
  {
   "cell_type": "code",
   "execution_count": null,
   "metadata": {},
   "outputs": [],
   "source": []
  },
  {
   "cell_type": "code",
   "execution_count": null,
   "metadata": {},
   "outputs": [],
   "source": []
  }
 ],
 "metadata": {
  "colab": {
   "collapsed_sections": [
    "BBgNOgHRS1FW",
    "duacQMllNqSn",
    "dfw9ROxQs1HM",
    "jWCd6yk9tvnB"
   ],
   "provenance": []
  },
  "kernelspec": {
   "display_name": "Python 3 (ipykernel)",
   "language": "python",
   "name": "python3"
  },
  "language_info": {
   "codemirror_mode": {
    "name": "ipython",
    "version": 3
   },
   "file_extension": ".py",
   "mimetype": "text/x-python",
   "name": "python",
   "nbconvert_exporter": "python",
   "pygments_lexer": "ipython3",
   "version": "3.9.6"
  }
 },
 "nbformat": 4,
 "nbformat_minor": 1
}
